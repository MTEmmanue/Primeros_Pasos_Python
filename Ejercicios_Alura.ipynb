{
  "nbformat": 4,
  "nbformat_minor": 0,
  "metadata": {
    "colab": {
      "provenance": [],
      "authorship_tag": "ABX9TyMCQ7IT53y8BGCy3Keheyik",
      "include_colab_link": true
    },
    "kernelspec": {
      "name": "python3",
      "display_name": "Python 3"
    },
    "language_info": {
      "name": "python"
    }
  },
  "cells": [
    {
      "cell_type": "markdown",
      "metadata": {
        "id": "view-in-github",
        "colab_type": "text"
      },
      "source": [
        "<a href=\"https://colab.research.google.com/github/MTEmmanue/Primeros_Pasos_Python/blob/main/Ejercicios_Alura.ipynb\" target=\"_parent\"><img src=\"https://colab.research.google.com/assets/colab-badge.svg\" alt=\"Open In Colab\"/></a>"
      ]
    },
    {
      "cell_type": "markdown",
      "source": [
        "# Modulo 1\n",
        "### Comenzando con Python"
      ],
      "metadata": {
        "id": "ss-fl0d8Qwx1"
      }
    },
    {
      "cell_type": "code",
      "execution_count": null,
      "metadata": {
        "colab": {
          "base_uri": "https://localhost:8080/"
        },
        "id": "D_j5aZaAQnnn",
        "outputId": "13a3dbfc-fad4-42cf-e8ad-a1b7b2034ba7"
      },
      "outputs": [
        {
          "output_type": "stream",
          "name": "stdout",
          "text": [
            "Escuela de Datos de Alura\n"
          ]
        }
      ],
      "source": [
        "# 1 - Imprime la frase \"Escuela de Datos de Alura\".\n",
        "print(\"Escuela de Datos de Alura\")"
      ]
    },
    {
      "cell_type": "code",
      "source": [
        "# 2 - Imprime tu nombre y tu apellido siguiendo la estructura a continuación:\n",
        "#Nombre: [tu nombre]\n",
        "#Apellido: [tu apellido]\n",
        "print(\"Nombre: Alvaro\")\n",
        "print(\"Apellido: Herrera\")"
      ],
      "metadata": {
        "colab": {
          "base_uri": "https://localhost:8080/"
        },
        "id": "ApaCH3GSRIjK",
        "outputId": "161ebc9f-e3ae-4088-9b5f-5241201a856b"
      },
      "execution_count": null,
      "outputs": [
        {
          "output_type": "stream",
          "name": "stdout",
          "text": [
            "Nombre: Alvaro\n",
            "Apellido: Herrera\n"
          ]
        }
      ]
    },
    {
      "cell_type": "code",
      "source": [
        "# 3 - Imprime tu primer nombre letra por letra. Por ejemplo, si mi nombre es Álvaro, la salida sería:\n",
        "\n",
        "# Á\n",
        "# L\n",
        "# V\n",
        "# A\n",
        "# R\n",
        "# O\n",
        "print('Á')\n",
        "print('L')\n",
        "print('V')\n",
        "print('A')\n",
        "print('R')\n",
        "print('O')"
      ],
      "metadata": {
        "id": "jSzs9OqyRfS0"
      },
      "execution_count": null,
      "outputs": []
    },
    {
      "cell_type": "code",
      "source": [
        "# 4 - Imprime tu fecha de nacimiento en formato día mes año. Recuerda que los valores de día y año no deben estar entre comillas. Suponiendo una fecha de cumpleaños el 28 de febrero de 2003, el formato debe ser como el siguiente:\n",
        "\n",
        "# 28 febrero 2003\n",
        "print(28, 'febrero', 2003)"
      ],
      "metadata": {
        "colab": {
          "base_uri": "https://localhost:8080/"
        },
        "id": "IzfrCOxSRpp_",
        "outputId": "62ba7689-36eb-45ae-de00-93163b614b28"
      },
      "execution_count": null,
      "outputs": [
        {
          "output_type": "stream",
          "name": "stdout",
          "text": [
            "28 febrero 2003\n"
          ]
        }
      ]
    },
    {
      "cell_type": "code",
      "source": [
        "# 5 - Imprime, en una sola instrucción print, el año actual en el que estás realizando este curso. El valor del año debe ser un dato numérico, y la salida de print debe ser la siguiente:\n",
        "\n",
        "# Año actual: [año]\n",
        "print('Año actual:', 2023)"
      ],
      "metadata": {
        "colab": {
          "base_uri": "https://localhost:8080/"
        },
        "id": "IJbxzyHlRuw3",
        "outputId": "3f220c3c-7413-4980-db94-bf6f101f68b2"
      },
      "execution_count": null,
      "outputs": [
        {
          "output_type": "stream",
          "name": "stdout",
          "text": [
            "Año actual: 2023\n"
          ]
        }
      ]
    },
    {
      "cell_type": "code",
      "source": [
        "nombre_alumno = 'Penélope Camacho'\n",
        "print('Nombre del alumno: %s' %(nombre_alumno))"
      ],
      "metadata": {
        "colab": {
          "base_uri": "https://localhost:8080/"
        },
        "id": "xx0mLVUJbXg4",
        "outputId": "54f21a00-e458-4b78-ed7b-674d57daf9bb"
      },
      "execution_count": null,
      "outputs": [
        {
          "output_type": "stream",
          "name": "stdout",
          "text": [
            "Nombre del alumno: Penélope Camacho\n"
          ]
        }
      ]
    },
    {
      "cell_type": "markdown",
      "source": [
        "# Modulo 2\n",
        "### Manipulando datos en python"
      ],
      "metadata": {
        "id": "9iB0mGuQb2Do"
      }
    },
    {
      "cell_type": "markdown",
      "source": [
        "1 - Crea un programa que solicite al usuario que escriba su nombre y luego imprima \"Hola, [nombre].\"\n",
        "\n",
        "2 - Crea un programa que solicite al usuario que escriba su nombre y edad, y luego imprima \"Hola, [nombre], tienes [edad] años.\"\n",
        "\n",
        "3 - Crea un programa que solicite al usuario que escriba su nombre, edad y altura en metros, y luego imprima \"Hola, [nombre], tienes [edad] años y mides [altura] metros.\"\n",
        "\n",
        "Calculadora con operadores\n",
        "\n",
        "4 - Crea un programa que solicite dos valores numéricos al usuario y luego imprima la suma de ambos valores.\n",
        "\n",
        "5 - Crea un programa que solicite tres valores numéricos al usuario y luego imprima la suma de los tres valores.\n",
        "\n",
        "6 - Crea un programa que solicite dos valores numéricos al usuario y luego imprima la resta del primero menos el segundo valor.\n",
        "\n",
        "7 - Crea un programa que solicite dos valores numéricos al usuario y luego imprima la multiplicación de los dos valores.\n",
        "\n",
        "8 - Crea un programa que solicite dos valores numéricos, un numerador y un denominador, y realice la división entre los dos valores. Asegúrate de que el valor del denominador no sea igual a 0.\n",
        "\n",
        "9 - Crea un programa que solicite dos valores numéricos, un operador y una potencia, y realice la exponenciación entre estos dos valores.\n",
        "\n",
        "10 - Crea un programa que solicite dos valores numéricos, un numerador y un denominador, y realice la división entera entre los dos valores. Asegúrate de que el valor del denominador no sea igual a 0.\n",
        "\n",
        "11 - Crea un programa que solicite dos valores numéricos, un numerador y un denominador, y devuelva el resto de la división entre los dos valores. Asegúrate de que el valor del denominador no sea igual a 0.\n",
        "\n",
        "12 - Crea un código que solicite las 3 notas de un estudiante e imprima el promedio de las notas.\n",
        "\n",
        "13 - Crea un código que calcule e imprima el promedio ponderado de los números 5, 12, 20 y 15 con pesos respectivamente iguales a 1, 2, 3 y 4.\n",
        "\n",
        "Editando textos\n",
        "\n",
        "14 - Crea una variable llamada \"frase\" y asígnale una cadena de texto de tu elección. Luego, imprime la frase en pantalla.\n",
        "\n",
        "15 - Crea un código que solicite una frase y luego imprima la frase en pantalla.\n",
        "\n",
        "16 - Crea un código que solicite una frase al usuario y luego imprima la misma frase ingresada pero en mayúsculas.\n",
        "\n",
        "17 - Crea un código que solicite una frase al usuario y luego imprima la misma frase ingresada pero en minúsculas.\n",
        "\n",
        "18 - Crea una variable llamada \"frase\" y asígnale una cadena de texto de tu elección. Luego, imprime la frase sin espacios en blanco al principio y al final.\n",
        "\n",
        "19 - Crea un código que solicite una frase al usuario y luego imprima la misma frase sin espacios en blanco al principio y al final.\n",
        "\n",
        "20 - Crea un código que solicite una frase al usuario y luego imprima la misma frase sin espacios en blanco al principio y al final, además de convertirla a minúsculas.\n",
        "\n",
        "21 - Crea un código que solicite una frase al usuario y luego imprima la misma frase con todas las vocales \"e\" reemplazadas por la letra \"f\".\n",
        "\n",
        "22 - Crea un código que solicite una frase al usuario y luego imprima la misma frase con todas las vocales \"a\" reemplazadas por el carácter \"@\".\n",
        "\n",
        "23 - Crea un código que solicite una frase al usuario y luego imprima la misma frase con todas las consonantes \"s\" reemplazadas por el carácter \"$\"."
      ],
      "metadata": {
        "id": "IipvBFV-thvs"
      }
    },
    {
      "cell_type": "code",
      "source": [
        "# 1 - Crea un programa que solicite al usuario que escriba su nombre y luego imprima \"Hola, [nombre].\"\n",
        "nombre = input('Ingresa tu nombre: ')\n",
        "print('Hola,', nombre)"
      ],
      "metadata": {
        "id": "lz3FyYvacAUg",
        "outputId": "f30731cc-5010-45ce-89cc-6ceef7646933",
        "colab": {
          "base_uri": "https://localhost:8080/"
        }
      },
      "execution_count": null,
      "outputs": [
        {
          "output_type": "stream",
          "name": "stdout",
          "text": [
            "Ingresa tu nombre: Jesus\n",
            "Hola, Jesus\n"
          ]
        }
      ]
    },
    {
      "cell_type": "code",
      "source": [
        "# 2 - Crea un programa que solicite al usuario que escriba su nombre y edad, y luego imprima \"Hola, [nombre], tienes [edad] años.\"\n",
        "nombre = input('Ingresa tu nombre: ')\n",
        "edad = input('Ingresa tu edad: ')\n",
        "print('Hola,', nombre, 'tienes', edad, 'años.')"
      ],
      "metadata": {
        "id": "4FJKZ62bt5lu",
        "outputId": "b93089d2-ed71-4efe-d924-f2c8feaa0805",
        "colab": {
          "base_uri": "https://localhost:8080/"
        }
      },
      "execution_count": null,
      "outputs": [
        {
          "output_type": "stream",
          "name": "stdout",
          "text": [
            "Ingresa tu nombre: Joshua\n",
            "Ingresa tu edad: 19\n",
            "Hola, Joshua tienes 19 años.\n"
          ]
        }
      ]
    },
    {
      "cell_type": "code",
      "source": [
        "# 3 - Crea un programa que solicite al usuario que escriba su nombre, edad y altura en metros, y luego imprima \"Hola, [nombre], tienes [edad] años y mides [altura] metros.\"\n",
        "nombre = input('Ingresa tu nombre: ')\n",
        "edad = input('Ingresa tu edad: ')\n",
        "altura = input('Ingresa tu altura: ')\n",
        "print('Hola,', nombre, 'tienes', edad, 'años y mides', altura, 'metros.')"
      ],
      "metadata": {
        "id": "w4zkwlHLuLsW",
        "outputId": "5957b33b-0128-4d5a-ca57-f3aaf11868b5",
        "colab": {
          "base_uri": "https://localhost:8080/"
        }
      },
      "execution_count": null,
      "outputs": [
        {
          "output_type": "stream",
          "name": "stdout",
          "text": [
            "Ingresa tu nombre: Steven\n",
            "Ingresa tu edad: 12\n",
            "Ingresa tu altura: 1.70\n",
            "Hola, Steven tienes 12 años y mides 1.70 metros.\n"
          ]
        }
      ]
    },
    {
      "cell_type": "code",
      "source": [
        "#4 - Crea un programa que solicite dos valores numéricos al usuario y luego imprima la suma de ambos valores.\n",
        "numero1 = int(input('Ingresa un número: '))\n",
        "numero2 = int(input('Ingresa otro número: '))\n",
        "print('La suma de los números es:', numero1 + numero2)"
      ],
      "metadata": {
        "id": "V7Uc_dWxuLpB",
        "outputId": "55af3f45-43d1-4052-e656-3f6d1020822b",
        "colab": {
          "base_uri": "https://localhost:8080/"
        }
      },
      "execution_count": null,
      "outputs": [
        {
          "output_type": "stream",
          "name": "stdout",
          "text": [
            "Ingresa un número: 2\n",
            "Ingresa otro número: 3\n",
            "La suma de los números es: 5\n"
          ]
        }
      ]
    },
    {
      "cell_type": "code",
      "source": [
        "# 5 - Crea un programa que solicite tres valores numéricos al usuario y luego imprima la suma de los tres valores.\n",
        "numero11 = int(input('Ingresa un número: '))\n",
        "numero22 = int(input('Ingresa otro número: '))\n",
        "numero33 = int(input('Ingresa otro número: '))\n",
        "print('La suma de los números es:', numero11 + numero22 + numero33)"
      ],
      "metadata": {
        "id": "pBrFHJI8uLmh",
        "outputId": "c5782e93-0413-4072-d508-9471a93a1b3c",
        "colab": {
          "base_uri": "https://localhost:8080/"
        }
      },
      "execution_count": null,
      "outputs": [
        {
          "output_type": "stream",
          "name": "stdout",
          "text": [
            "Ingresa un número: 4\n",
            "Ingresa otro número: 3\n",
            "Ingresa otro número: 6\n",
            "La suma de los números es: 13\n"
          ]
        }
      ]
    },
    {
      "cell_type": "code",
      "source": [
        "# 6 - Crea un programa que solicite dos valores numéricos al usuario y luego imprima la resta del primero menos el segundo valor.\n",
        "resta1 = int(input('Ingresa un número: '))\n",
        "resta2 = int(input('Ingresa otro número: '))\n",
        "print('La resta de los números es:', resta1 - resta2)"
      ],
      "metadata": {
        "id": "bCKtdLfnuLke",
        "outputId": "2acce8de-46c0-4af8-d2ab-6833ed5f60b7",
        "colab": {
          "base_uri": "https://localhost:8080/"
        }
      },
      "execution_count": null,
      "outputs": [
        {
          "output_type": "stream",
          "name": "stdout",
          "text": [
            "Ingresa un número: 8\n",
            "Ingresa otro número: 6\n",
            "La resta de los números es: 2\n"
          ]
        }
      ]
    },
    {
      "cell_type": "code",
      "source": [
        "#7 - Crea un programa que solicite dos valores numéricos al usuario y luego imprima la multiplicación de los dos valores.\n",
        "multiplo1 = int(input('Ingresa un número: '))\n",
        "multiplo2 = int(input('Ingresa otro número: '))\n",
        "print('La multiplicación de los números es:', multiplo1 * multiplo2)"
      ],
      "metadata": {
        "id": "tYcc-HekuLhl",
        "outputId": "eb230d67-3d8a-4c75-e044-18e0d1b6c868",
        "colab": {
          "base_uri": "https://localhost:8080/"
        }
      },
      "execution_count": null,
      "outputs": [
        {
          "output_type": "stream",
          "name": "stdout",
          "text": [
            "Ingresa un número: 6\n",
            "Ingresa otro número: 5\n",
            "La multiplicación de los números es: 30\n"
          ]
        }
      ]
    },
    {
      "cell_type": "code",
      "source": [
        "# 8 - Crea un programa que solicite dos valores numéricos, un numerador y un denominador, y realice la división entre los dos valores. Asegúrate de que el valor del denominador no sea igual a 0.\n",
        "numerador = int(input('Ingresa un número: '))\n",
        "denominador = int(input('Ingresa otro número que no sea cero: '))\n",
        "if denominador != 0:\n",
        "    # Realizar la división\n",
        "    resultado = numerador / denominador\n",
        "    print(f\"El resultado de la división es: {resultado}\")\n",
        "else:\n",
        "    # Mensaje de error en caso de denominador igual a 0\n",
        "    print(\"Error: el denominador no puede ser cero.\")"
      ],
      "metadata": {
        "id": "nOqvEQ8KuLe1",
        "outputId": "cf738ea0-bdb2-41c8-b822-40e56299928f",
        "colab": {
          "base_uri": "https://localhost:8080/"
        }
      },
      "execution_count": null,
      "outputs": [
        {
          "output_type": "stream",
          "name": "stdout",
          "text": [
            "Ingresa un número: 10\n",
            "Ingresa otro número que no sea cero: 5\n",
            "El resultado de la división es: 2.0\n"
          ]
        }
      ]
    },
    {
      "cell_type": "code",
      "source": [
        "# 9 - Crea un programa que solicite dos valores numéricos, un operador y una potencia, y realice la exponenciación entre estos dos valores.\n",
        "operador = int(input('Ingresa un número: '))\n",
        "potencia = int(input('Ingresa otro número: '))\n",
        "print('El resultado de la potencia es:', operador ** potencia)"
      ],
      "metadata": {
        "id": "lQt29qpKuLcO",
        "outputId": "f8fe509c-c6d6-4081-f33c-2def0b226d1c",
        "colab": {
          "base_uri": "https://localhost:8080/"
        }
      },
      "execution_count": null,
      "outputs": [
        {
          "output_type": "stream",
          "name": "stdout",
          "text": [
            "Ingresa un número: 2\n",
            "Ingresa otro número: 4\n",
            "El resultado de la potencia es: 16\n"
          ]
        }
      ]
    },
    {
      "cell_type": "code",
      "source": [
        "# 10 - Crea un programa que solicite dos valores numéricos, un numerador y un denominador, y realice la división entera entre los dos valores. Asegúrate de que el valor del denominador no sea igual a 0.\n",
        "numerador = int(input('Ingresa un número: '))\n",
        "denominador = int(input('Ingresa otro número que no sea cero: '))\n",
        "\n",
        "if denominador != 0:\n",
        "  print('La división entera de los números es:', numerador // denominador)\n",
        "else:\n",
        "  print('Error: el denominador no puede ser cero.')"
      ],
      "metadata": {
        "id": "e2ZhE36GuLYm",
        "outputId": "3c2dba4f-5c3b-469e-fc86-784574fbfb08",
        "colab": {
          "base_uri": "https://localhost:8080/"
        }
      },
      "execution_count": null,
      "outputs": [
        {
          "output_type": "stream",
          "name": "stdout",
          "text": [
            "Ingresa un número: 8\n",
            "Ingresa otro número que no sea cero: 3\n",
            "La división entera de los números es: 2\n"
          ]
        }
      ]
    },
    {
      "cell_type": "code",
      "source": [
        "# 11 - Crea un programa que solicite dos valores numéricos, un numerador y un denominador, y devuelva el resto de la división entre los dos valores. Asegúrate de que el valor del denominador no sea igual a 0.\n",
        "numerador = int(input('Ingresa un número: '))\n",
        "denominador = int(input('Ingresa otro número que no sea cero: '))\n",
        "if denominador != 0:\n",
        "  # Realizar la división\n",
        "  resultado = numerador % denominador\n",
        "  print(f\"El resultado de la división es: {resultado}\")\n",
        "else:\n",
        "  # Mensaje de error en caso de denominador igual a 0\n",
        "  print(\"Error: el denominador no puede ser cero.\")"
      ],
      "metadata": {
        "id": "AfguDKIkuLWZ",
        "outputId": "62e42f35-064f-4ef9-f258-e10bfed1bc24",
        "colab": {
          "base_uri": "https://localhost:8080/"
        }
      },
      "execution_count": null,
      "outputs": [
        {
          "output_type": "stream",
          "name": "stdout",
          "text": [
            "Ingresa un número: 10\n",
            "Ingresa otro número que no sea cero: 3\n",
            "El resultado de la división es: 1\n"
          ]
        }
      ]
    },
    {
      "cell_type": "code",
      "source": [
        "# 12 - Crea un código que solicite las 3 notas de un estudiante e imprima el promedio de las notas.\n",
        "nota1 = int(input('Ingresa la primera nota: '))\n",
        "nota2 = int(input('Ingresa la segunda nota: '))\n",
        "nota3 = int(input('Ingresa la tercera nota: '))\n",
        "print('El promedio de las notas es:', (nota1 + nota2 + nota3) / 3)"
      ],
      "metadata": {
        "id": "ynDEV9wzuLTo",
        "outputId": "3246b0eb-173f-4d38-b86d-cada11041a42",
        "colab": {
          "base_uri": "https://localhost:8080/"
        }
      },
      "execution_count": null,
      "outputs": [
        {
          "output_type": "stream",
          "name": "stdout",
          "text": [
            "Ingresa la primera nota: 6\n",
            "Ingresa la segunda nota: 7\n",
            "Ingresa la tercera nota: 8\n",
            "El promedio de las notas es: 7.0\n"
          ]
        }
      ]
    },
    {
      "cell_type": "code",
      "source": [
        "# 13 - Crea un código que calcule e imprima el promedio ponderado de los números 5, 12, 20 y 15 con pesos respectivamente iguales a 1, 2, 3 y 4\n",
        "print('El promedio ponderado de los números es:', (5 * 1 + 12 * 2 + 20 * 3 + 15 * 4) / (1 + 2 + 3 + 4))\n"
      ],
      "metadata": {
        "id": "JHSNONvz5kK7",
        "colab": {
          "base_uri": "https://localhost:8080/"
        },
        "outputId": "cd608406-18c5-4adf-d850-85ee6494de38"
      },
      "execution_count": 1,
      "outputs": [
        {
          "output_type": "stream",
          "name": "stdout",
          "text": [
            "El promedio ponderado de los números es: 14.9\n"
          ]
        }
      ]
    },
    {
      "cell_type": "code",
      "source": [
        "# 14 - Crea una variable llamada \"frase\" y asígnale una cadena de texto de tu elección. Luego, imprime la frase en pantalla.\n",
        "frase = 'Hola, soy Alvaro Herrera'\n",
        "print(frase)"
      ],
      "metadata": {
        "id": "SfSnCgVK5kGw",
        "colab": {
          "base_uri": "https://localhost:8080/"
        },
        "outputId": "b9014d73-b130-4c7f-bc82-afab3541cdd7"
      },
      "execution_count": 2,
      "outputs": [
        {
          "output_type": "stream",
          "name": "stdout",
          "text": [
            "Hola, soy Alvaro Herrera\n"
          ]
        }
      ]
    },
    {
      "cell_type": "code",
      "source": [
        "# 15 - Crea un código que solicite una frase y luego imprima la frase en pantalla.\n",
        "frase = input('Ingresa una frase: ')\n",
        "print(frase)"
      ],
      "metadata": {
        "id": "v2hSAAng5kBV",
        "colab": {
          "base_uri": "https://localhost:8080/"
        },
        "outputId": "1d43b444-355f-41d0-bc62-a066761b4acb"
      },
      "execution_count": 3,
      "outputs": [
        {
          "output_type": "stream",
          "name": "stdout",
          "text": [
            "Ingresa una frase: La fuerz aesta contigo\n",
            "La fuerz aesta contigo\n"
          ]
        }
      ]
    },
    {
      "cell_type": "code",
      "source": [
        "# 16 - Crea un código que solicite una frase al usuario y luego imprima la misma frase ingresada pero en mayúsculas.\n",
        "frase = input('Ingresa una frase: ')\n",
        "print(frase.upper())"
      ],
      "metadata": {
        "id": "qYwkUpGA5j1k",
        "colab": {
          "base_uri": "https://localhost:8080/"
        },
        "outputId": "1ecf7486-ab45-4091-85c2-35ef7fac6cf9"
      },
      "execution_count": 4,
      "outputs": [
        {
          "output_type": "stream",
          "name": "stdout",
          "text": [
            "Ingresa una frase: Hola\n",
            "HOLA\n"
          ]
        }
      ]
    },
    {
      "cell_type": "code",
      "source": [
        "# 17 - Crea un código que solicite una frase al usuario y luego imprima la misma frase ingresada pero en minúsculas.\n",
        "frase = input('Ingresa una frase: ')\n",
        "print(frase.lower())"
      ],
      "metadata": {
        "id": "8sGBxETTBPhf",
        "colab": {
          "base_uri": "https://localhost:8080/"
        },
        "outputId": "008e9f4d-13df-4f95-b0e0-aab1894994af"
      },
      "execution_count": 5,
      "outputs": [
        {
          "output_type": "stream",
          "name": "stdout",
          "text": [
            "Ingresa una frase: ADios\n",
            "adios\n"
          ]
        }
      ]
    },
    {
      "cell_type": "code",
      "source": [
        "# 18 - Crea una variable llamada \"frase\" y asígnale una cadena de texto de tu elección. Luego, imprime la frase sin espacios en blanco al principio y al final.\n",
        "frase = ' Hola, soy Alvaro Herrera '\n",
        "print(frase.strip())"
      ],
      "metadata": {
        "id": "t6Y3qlWMBPer",
        "colab": {
          "base_uri": "https://localhost:8080/"
        },
        "outputId": "aa12bf66-ed10-439e-88ba-d084861e4469"
      },
      "execution_count": 6,
      "outputs": [
        {
          "output_type": "stream",
          "name": "stdout",
          "text": [
            "Hola, soy Alvaro Herrera\n"
          ]
        }
      ]
    },
    {
      "cell_type": "code",
      "source": [
        "# 19 - Crea un código que solicite una frase al usuario y luego imprima la misma frase sin espacios en blanco al principio y al final.\n",
        "frase = input('Ingresa una frase: ')\n",
        "print(frase.strip())"
      ],
      "metadata": {
        "id": "HPQI0iX9BPbU",
        "colab": {
          "base_uri": "https://localhost:8080/"
        },
        "outputId": "03807224-c0d7-4f0d-eb35-d15a4909ae0f"
      },
      "execution_count": 7,
      "outputs": [
        {
          "output_type": "stream",
          "name": "stdout",
          "text": [
            "Ingresa una frase: Estoy excelente\n",
            "Estoy excelente\n"
          ]
        }
      ]
    },
    {
      "cell_type": "code",
      "source": [
        "# 20 - Crea un código que solicite una frase al usuario y luego imprima la misma frase sin espacios en blanco al principio y al final, además de convertirla a minúsculas.\n",
        "frase = input('Ingresa una frase: ')\n",
        "print(frase.strip().lower())"
      ],
      "metadata": {
        "id": "RFihICaFBPXs",
        "colab": {
          "base_uri": "https://localhost:8080/"
        },
        "outputId": "1fdf5d3f-b690-4f7c-c343-e04e7160ba08"
      },
      "execution_count": 8,
      "outputs": [
        {
          "output_type": "stream",
          "name": "stdout",
          "text": [
            "Ingresa una frase:     COMO Estas   \n",
            "como estas\n"
          ]
        }
      ]
    },
    {
      "cell_type": "code",
      "source": [
        "# 21 - Crea un código que solicite una frase al usuario y luego imprima la misma frase con todas las vocales \"e\" reemplazadas por la letra \"f\".\n",
        "frase = input('Ingresa una frase: ')\n",
        "print(frase.replace('e', 'f'))"
      ],
      "metadata": {
        "id": "CXiUFSGpBPUl",
        "colab": {
          "base_uri": "https://localhost:8080/"
        },
        "outputId": "0dc0c228-ac67-4b6e-8bae-d3d454df1c45"
      },
      "execution_count": 9,
      "outputs": [
        {
          "output_type": "stream",
          "name": "stdout",
          "text": [
            "Ingresa una frase: este espacio\n",
            "fstf fspacio\n"
          ]
        }
      ]
    },
    {
      "cell_type": "code",
      "source": [
        "# 22 - Crea un código que solicite una frase al usuario y luego imprima la misma frase con todas las vocales \"a\" reemplazadas por el carácter \"@\".\n",
        "frase = input('Ingresa una frase: ')\n",
        "print(frase.replace('a', '@'))"
      ],
      "metadata": {
        "id": "NYeRNam3BPQA",
        "colab": {
          "base_uri": "https://localhost:8080/"
        },
        "outputId": "10850501-ad3f-4558-8e87-d9cebc8292c7"
      },
      "execution_count": 10,
      "outputs": [
        {
          "output_type": "stream",
          "name": "stdout",
          "text": [
            "Ingresa una frase: anonadado esta\n",
            "@non@d@do est@\n"
          ]
        }
      ]
    },
    {
      "cell_type": "code",
      "source": [
        "# 23 - Crea un código que solicite una frase al usuario y luego imprima la misma frase con todas las consonantes \"s\" reemplazadas por el carácter \"$\".\n",
        "frase = input('Ingresa una frase: ')\n",
        "print(frase.replace('s', '$'))"
      ],
      "metadata": {
        "id": "_7g3LrEpBiK4",
        "colab": {
          "base_uri": "https://localhost:8080/"
        },
        "outputId": "4e431516-f534-4c80-a7ad-33d9ef8400e4"
      },
      "execution_count": 11,
      "outputs": [
        {
          "output_type": "stream",
          "name": "stdout",
          "text": [
            "Ingresa una frase: serpientes \n",
            "$erpiente$ \n"
          ]
        }
      ]
    },
    {
      "cell_type": "markdown",
      "source": [
        "# Modulo 3\n",
        "### Estructuras condicionales\n"
      ],
      "metadata": {
        "id": "h9XejBGjKJR6"
      }
    },
    {
      "cell_type": "markdown",
      "source": [
        "1 - Escribe un programa que pida a la persona usuaria que proporcione dos números y muestre el número más grande.\n",
        "\n",
        "2 - Escribe un programa que solicite el porcentaje de crecimiento de producción de una empresa e informe si hubo un crecimiento (porcentaje positivo) o una disminución (porcentaje negativo).\n",
        "\n",
        "3 - Escribe un programa que determine si una letra proporcionada por la persona usuaria es una vocal o una consonante.\n",
        "\n",
        "4 - Escribe un programa que lea valores promedio de precios de un modelo de automóvil durante 3 años consecutivos y muestre el valor más alto y más bajo entre esos tres años.\n",
        "\n",
        "5 - Escribe un programa que pregunte sobre el precio de tres productos e indique cuál es el producto más barato para comprar.\n",
        "\n",
        "6 - Escribe un programa que lea tres números y los muestre en orden descendente.\n",
        "\n",
        "7 -Escribe un programa que pregunte en qué turno estudia la persona usuaria (\"mañana\", \"tarde\" o \"noche\") y muestre el mensaje \"¡Buenos Días!\", \"¡Buenas Tardes!\", \"¡Buenas Noches!\" o \"Valor Inválido!\", según el caso.\n",
        "\n",
        "8 - Escribe un programa que solicite un número entero a la persona usuaria y determine si es par o impar. Pista: Puedes usar el operador módulo (%).\n",
        "\n",
        "9 - Escribe un programa que pida un número a la persona usuaria y le informe si es entero o decimal.\n",
        "\n",
        "Momento de los proyectos\n",
        "\n",
        "10 - Un programa debe ser escrito para leer dos números y luego preguntar a la persona usuaria qué operación desea realizar. El resultado de la operación debe incluir información sobre el número, si es par o impar, positivo o negativo, e entero o decimal.\n",
        "\n",
        "11 - Escribe un programa que pida a la persona usuaria tres números que representan los lados de un triángulo. El programa debe informar si los valores pueden utilizarse para formar un triángulo y, en caso afirmativo, si es equilátero, isósceles o escaleno. Ten en cuenta algunas sugerencias:\n",
        "\n",
        "- Tres lados forman un triángulo cuando la suma de cualesquiera dos lados es mayor que el tercero;\n",
        "- Triángulo Equilátero: tres lados iguales;\n",
        "- Triángulo Isósceles: dos lados iguales;\n",
        "- Triángulo Escaleno: tres lados diferentes.\n",
        "\n",
        "12 - Un establecimiento está vendiendo combustibles con descuentos variables. Para el etanol, si la cantidad comprada es de hasta 15 litros, el descuento será del 2% por litro. En caso contrario, será del 4% por litro. Para el diésel, si la cantidad comprada es de hasta 15 litros, el descuento será del 3% por litro. En caso contrario, será del 5% por litro. El precio por litro de diésel es de R$ 2,00 y el precio por litro de etanol es de R$ 1,70. Escribe un programa que lea la cantidad de litros vendidos y el tipo de combustible (E para etanol y D para diésel) y calcule el valor a pagar por el cliente. Ten en cuenta algunas sugerencias:\n",
        "\n",
        "- El valor del descuento será el producto del precio por litro, la cantidad de litros y el valor del descuento.\n",
        "- El valor a pagar por un cliente será el resultado de la multiplicación del precio por litro por la cantidad de litros menos el valor del descuento resultante del cálculo.\n",
        "\n",
        "13 - En una empresa de venta de bienes raíces, debes crear un código que analice los datos de ventas anuales para ayudar a la dirección en la toma de decisiones. El código debe recopilar los datos de cantidad de ventas durante los años 2022 y 2023 y calcular la variación porcentual. A partir del valor de la variación, se deben proporcionar las siguientes sugerencias:\n",
        "\n",
        "- Para una variación superior al 20%: bonificación para el equipo de ventas.\n",
        "- Para una variación entre el 2% y el 20%: pequeña bonificación para el equipo de ventas.\n",
        "- Para una variación entre el 2% y el -10%: planificación de políticas de incentivo a las ventas.\n",
        "- Para bonificaciones inferiores al -10%: recorte de gastos."
      ],
      "metadata": {
        "id": "_5uCHwPdKVkc"
      }
    },
    {
      "cell_type": "code",
      "source": [
        "# 1 - Escribe un programa que pida a la persona usuaria que proporcione dos números y muestre el número más grande.\n",
        "numero1 = int(input('Ingresa un número: '))\n",
        "numero2 = int(input('Ingresa otro número: '))\n",
        "if numero1 > numero2:\n",
        "  print('El número más grande es:', numero1)\n",
        "else:\n",
        "  print('El número más grande es:', numero2"
      ],
      "metadata": {
        "id": "8fqRKiUDKQBJ",
        "colab": {
          "base_uri": "https://localhost:8080/"
        },
        "outputId": "18f0e36e-109f-4d86-e816-f2a28d13777c"
      },
      "execution_count": 14,
      "outputs": [
        {
          "output_type": "stream",
          "name": "stdout",
          "text": [
            "Ingresa un número: 2\n",
            "Ingresa otro número: 4\n",
            "El número más grande es: 4\n"
          ]
        }
      ]
    },
    {
      "cell_type": "code",
      "source": [
        "#2 - Escribe un programa que solicite el porcentaje de crecimiento de producción de una empresa e informe si hubo un crecimiento (porcentaje positivo) o una disminución (porcentaje negativo).\n",
        "porcentaje = int(input('Ingresa el porcentaje de crecimiento de producción de la empresa: '))\n",
        "if porcentaje > 0:\n",
        "  print('Hubo un porcentaje positivo', porcentaje, '%')\n",
        "elif porcentaje < 0:\n",
        "  print('Hubo un porcentaje negativoe', porcentaje, '%')\n",
        "else:\n",
        "  print('No hubo crecimiento ni disminución')\n"
      ],
      "metadata": {
        "id": "CFmBhnjFoxIO"
      },
      "execution_count": null,
      "outputs": []
    },
    {
      "cell_type": "code",
      "source": [
        "#3 - Escribe un programa que determine si una letra proporcionada por la persona usuaria es una vocal o una consonante.\n",
        "frase = input('Ingresa una letra: ')\n",
        "if frase == 'a' or frase == 'e' or frase == 'i' or frase == 'o' or frase == 'u':\n",
        "  print('Es una vocal')\n",
        "else:\n",
        "  print('Es una consonante')"
      ],
      "metadata": {
        "colab": {
          "base_uri": "https://localhost:8080/"
        },
        "id": "I9HKV3IrpkPd",
        "outputId": "f615780f-fd30-4aa4-e007-a2672cb7891b"
      },
      "execution_count": 17,
      "outputs": [
        {
          "output_type": "stream",
          "name": "stdout",
          "text": [
            "Ingresa una letra: o\n",
            "Es una vocal\n"
          ]
        }
      ]
    },
    {
      "cell_type": "code",
      "source": [
        "#4 - Escribe un programa que lea valores promedio de precios de un modelo de automóvil durante 3 años consecutivos y muestre el valor más alto y más bajo entre esos tres años.\n",
        "precios_promedio1 = int(input('Ingresa el precio promedio de los productos: '))\n",
        "precios_promedio2 = int(input('Ingresa el precio promedio de los productos: '))\n",
        "precios_promedio3 = int(input('Ingresa el precio promedio de los productos: '))\n",
        "\n",
        "mayor = precios_promedio1\n",
        "if mayor < precios_promedio2:\n",
        "  mayor = precios_promedio2\n",
        "if mayor < precios_promedio3:\n",
        "  mayor = precios_promedio3\n",
        "\n",
        "menor = precios_promedio1\n",
        "if menor > precios_promedio2:\n",
        "  menor = precios_promedio2\n",
        "if menor > precios_promedio3:\n",
        "  menor = precios_promedio3\n",
        "\n",
        "print(f'El precio más alto es: {mayor}')\n",
        "print(f'El precio más bajo es: {menor}')"
      ],
      "metadata": {
        "colab": {
          "base_uri": "https://localhost:8080/"
        },
        "id": "Nfq4vTUvpzRy",
        "outputId": "a70a1733-e1ee-4ad9-c408-2246a6783dee"
      },
      "execution_count": 21,
      "outputs": [
        {
          "output_type": "stream",
          "name": "stdout",
          "text": [
            "Ingresa el precio promedio de los productos: 5\n",
            "Ingresa el precio promedio de los productos: 3\n",
            "Ingresa el precio promedio de los productos: 7\n",
            "El precio más alto es: 7\n",
            "El precio más bajo es: 3\n"
          ]
        }
      ]
    },
    {
      "cell_type": "code",
      "source": [
        "#5 - Escribe un programa que pregunte sobre el precio de tres productos e indique cuál es el producto más barato para comprar.\n",
        "precio_producto1 = int(input('Ingresa el precio del producto 1: '))\n",
        "precio_producto2 = int(input('Ingresa el precio del producto 2: '))\n",
        "precio_producto3 = int(input('Ingresa el precio del producto 3: '))\n",
        "\n",
        "producto_barato = precio_producto1\n",
        "if producto_barato > precio_producto2:\n",
        "  producto_barato = precio_producto2\n",
        "if producto_barato > precio_producto3:\n",
        "  producto_barato = precio_producto3\n",
        "\n",
        "print(f'El producto más barato es: {producto_barato}')"
      ],
      "metadata": {
        "colab": {
          "base_uri": "https://localhost:8080/"
        },
        "id": "WHa9c0G8sAfa",
        "outputId": "6ce9cd8a-3243-48ab-db14-29d971c52cc9"
      },
      "execution_count": 24,
      "outputs": [
        {
          "output_type": "stream",
          "name": "stdout",
          "text": [
            "Ingresa el precio del producto 1: 66\n",
            "Ingresa el precio del producto 2: 33\n",
            "Ingresa el precio del producto 3: 88\n",
            "El producto más barato es: 33\n"
          ]
        }
      ]
    },
    {
      "cell_type": "code",
      "source": [
        "#6 - Escribe un programa que lea tres números y los muestre en orden descendente.\n",
        "num1 = int(input('Ingresa el primer número: '))\n",
        "num2 = int(input('Ingresa el segundo número: '))\n",
        "num3 = int(input('Ingresa el tercer número: '))\n",
        "\n",
        "\n",
        "\n",
        "if num1 > num2 and num1 > num3:\n",
        "  mayor = num1\n",
        "  if num2 > num3:\n",
        "    medio = num2\n",
        "    menor = num3\n",
        "  else:\n",
        "    medio = num3\n",
        "    menor = num2\n",
        "elif num2 > num1 and num2 > num3:\n",
        "  mayor = num2\n",
        "  if num1 > num3:\n",
        "    medio = num1\n",
        "    menor = num3\n",
        "  else:\n",
        "    medio = num3\n",
        "    menor = num1\n",
        "else:\n",
        "  mayor = num3\n",
        "  if num1 > num2:\n",
        "    medio = num1\n",
        "    menor = num2\n",
        "  else:\n",
        "    medio = num2\n",
        "    menor = num1\n",
        "\n",
        "print('El orden de los numeros ascedentemente es: ' + str(menor) + ', ' + str(medio) + ', ' + str(mayor))\n"
      ],
      "metadata": {
        "colab": {
          "base_uri": "https://localhost:8080/"
        },
        "id": "YqjqcK9Iskgd",
        "outputId": "0bce1353-4448-4221-8b53-826f15e5a05f"
      },
      "execution_count": 35,
      "outputs": [
        {
          "output_type": "stream",
          "name": "stdout",
          "text": [
            "Ingresa el primer número: 2\n",
            "Ingresa el segundo número: 4\n",
            "Ingresa el tercer número: 1\n",
            "El orden de los numeros ascedentemente es: 1, 2, 4\n"
          ]
        }
      ]
    },
    {
      "cell_type": "code",
      "source": [
        "# 7 -Escribe un programa que pregunte en qué turno estudia la persona usuaria (\"mañana\", \"tarde\" o \"noche\") y muestre el mensaje \"¡Buenos Días!\", \"¡Buenas Tardes!\", \"¡Buenas Noches!\" o \"Valor Inválido!\", según el caso.\n",
        "\n",
        "# 8 - Escribe un programa que solicite un número entero a la persona usuaria y determine si es par o impar. Pista: Puedes usar el operador módulo (%).\n",
        "\n",
        "# 9 - Escribe un programa que pida un número a la persona usuaria y le informe si es entero o decimal.\n",
        "\n",
        "# 10 - Un programa debe ser escrito para leer dos números y luego preguntar a la persona usuaria qué operación desea realizar. El resultado de la operación debe incluir información sobre el número, si es par o impar, positivo o negativo, e entero o decimal.\n",
        "\n",
        "# 11 - Escribe un programa que pida a la persona usuaria tres números que representan los lados de un triángulo. El programa debe informar si los valores pueden utilizarse para formar un triángulo y, en caso afirmativo, si es equilátero, isósceles o escaleno. Ten en cuenta algunas sugerencias:\n",
        "\n",
        "#Tres lados forman un triángulo cuando la suma de cualesquiera dos lados es mayor que el tercero;\n",
        "#Triángulo Equilátero: tres lados iguales;\n",
        "#Triángulo Isósceles: dos lados iguales;\n",
        "#Triángulo Escaleno: tres lados diferentes."
      ],
      "metadata": {
        "id": "fTKJItUexS9i"
      },
      "execution_count": null,
      "outputs": []
    },
    {
      "cell_type": "code",
      "source": [
        "turno = input('Ingresa el turno que estudias: Mañana, Tarde o Noche: ')\n",
        "\n",
        "if turno == 'Mañana':\n",
        "  print('¡Buenos días!')\n",
        "elif turno == 'Tarde':\n",
        "  print('¡Buenas tardes!')\n",
        "elif turno == 'Noche':\n",
        "  print('¡Buenas noches!')\n",
        "else:\n",
        "  print('Valor inválido')"
      ],
      "metadata": {
        "colab": {
          "base_uri": "https://localhost:8080/"
        },
        "id": "nq61bPtJxequ",
        "outputId": "1638333c-562b-438b-deb2-62cd0fe8ee42"
      },
      "execution_count": 40,
      "outputs": [
        {
          "output_type": "stream",
          "name": "stdout",
          "text": [
            "Ingresa el turno que estudias: Mañana, Tarde o Noche: Mañana\n",
            "¡Buenos días!\n"
          ]
        }
      ]
    },
    {
      "cell_type": "code",
      "source": [],
      "metadata": {
        "id": "j81fMUWJx8fg"
      },
      "execution_count": null,
      "outputs": []
    },
    {
      "cell_type": "markdown",
      "source": [
        "# Modulo 4 Estructuras de repetición\n",
        "### Estructuras de repetición\n",
        "1 - Escribe un programa que solicite dos números enteros e imprima todos los números enteros entre ellos.\n",
        "\n",
        "2 - Escribe un programa para calcular cuántos días tomará que la colonia de una bacteria A supere o iguale a la colonia de una bacteria B, basado en tasas de crecimiento del 3% y 1.5%, respectivamente. Supón que la colonia A comienza con 4 elementos y B con 10.\n",
        "\n",
        "3 - Para procesar una cantidad de 15 datos de evaluaciones de usuarios de un servicio de la empresa, necesitamos verificar si las calificaciones son válidas. Por lo tanto, escribe un programa que recibirá calificaciones del 0 al 5 y verificará si son valores válidos. Si se ingresa una calificación superior a 5 o inferior a 0, se repetirá hasta que el usuario ingrese un valor válido.\n",
        "\n",
        "4 - Desarrolla un programa que lea un conjunto indefinido de temperaturas en grados Celsius y calcule su promedio. La lectura debe detenerse al ingresar el valor -273°C.\n",
        "\n",
        "5 - Escribe un programa que calcule el factorial de un número entero proporcionado por el usuario. Recuerda que el factorial de un número entero es el producto de ese número por todos sus antecesores hasta llegar al número 1. Por ejemplo, el factorial de 5 es 5 x 4 x 3 x 2 x 1 = 120.\n",
        "\n",
        "Momento de los proyectos\n",
        "\n",
        "6 - Escribe un programa que genere la tabla de multiplicar de un número entero del 1 al 10, según la elección del usuario. Como ejemplo, para el número 2, la tabla de multiplicar debe mostrarse en el siguiente formato:\n",
        "\n",
        "Tabla de multiplicar del 2:\n",
        "\n",
        "2 x 1 = 2\n",
        "\n",
        "2 x 2 = 4\n",
        "\n",
        "[...]\n",
        "\n",
        "2 x 10 = 20\n",
        "\n",
        "\n",
        "7 - Los números primos tienen diversas aplicaciones en Ciencia de Datos, como en criptografía y seguridad. Un número primo es aquel que es divisible solo por sí mismo y por 1. Por lo tanto, crea un programa que solicite un número entero y determine si es un número primo o no.\n",
        "\n",
        "8 - Vamos a comprender la distribución de edades de los pensionistas de una empresa de seguros. Escribe un programa que lea las edades de una cantidad no informada de clientes y muestre la distribución en los intervalos [0-25], [26-50], [51-75] y [76-100]. La entrada de datos se detendrá al ingresar un número negativo.\n",
        "\n",
        "9 - En una elección para la gerencia de una empresa con 20 empleados, hay cuatro candidatos. Escribe un programa que calcule al ganador de la elección. La votación se realizó de la siguiente manera:"
      ],
      "metadata": {
        "id": "Cp9ZUdldgnYS"
      }
    },
    {
      "cell_type": "markdown",
      "source": [
        "# Modulo 5\n",
        "### Estrcuturas de datos\n",
        "1 - Crea un programa que tenga la siguiente lista con los gastos de una empresa de papel [2172.54, 3701.35, 3518.09, 3456.61, 3249.38, 2840.82, 3891.45, 3075.26, 2317.64, 3219.08]. Con estos valores, crea un programa que calcule el promedio de gastos. Sugerencia: usa las funciones integradas sum() y len().\n",
        "\n",
        "2 - Con los mismos datos de la pregunta anterior, determina cuántas compras se realizaron por encima de 3000 reales y calcula el porcentaje con respecto al total de compras.\n",
        "\n",
        "3 - Crea un código que recoja en una lista 5 números enteros aleatorios e imprima la lista. Ejemplo: [1, 4, 7, 2, 4].\n",
        "\n",
        "4 - Recoge nuevamente 5 números enteros e imprime la lista en orden inverso al enviado.\n",
        "\n",
        "5 - Crea un programa que, al ingresar un número cualquiera, genere una lista que contenga todos los números primos entre 1 y el número ingresado.\n",
        "\n",
        "6 - Escribe un programa que pida una fecha, especificando el día, mes y año, y determine si es válida para su análisis.\n",
        "\n",
        "Momento para los proyectos\n",
        "\n",
        "7 - Para un estudio sobre la multiplicación de bacterias en una colonia, se recopiló el número de bacterias multiplicadas por día y se puede observar a continuación: [1.2, 2.1, 3.3, 5.0, 7.8, 11.3, 16.6, 25.1, 37.8, 56.9]. Con estos valores, crea un código que genere una lista que contenga el porcentaje de crecimiento de bacterias por día, comparando el número de bacterias en cada día con el número de bacterias del día anterior. Sugerencia: para calcular el porcentaje de crecimiento, utiliza la siguiente ecuación: 100 * (muestra_actual - muestra_anterior) / muestra_anterior.\n",
        "\n",
        "8 - Para una selección de productos alimenticios, debemos separar el conjunto de IDs proporcionados por números enteros, sabiendo que los productos con ID par son dulces y los que tienen ID impar son amargos. Crea un código que recoja 10 IDs. Luego, calcula y muestra la cantidad de productos dulces y amargos.\n",
        "\n",
        "9 - Desarrolla un programa que informe la puntuación de un estudiante de acuerdo con sus respuestas. Debe pedir la respuesta del estudiante para cada pregunta y verificar si la respuesta coincide con el resultado. Cada pregunta vale un punto y hay opciones A, B, C o D.\n",
        "\n",
        "Resultado del examen:\n",
        "\n",
        "01 - D\n",
        "\n",
        "02 - A\n",
        "\n",
        "03 - C\n",
        "\n",
        "04 - B\n",
        "\n",
        "05 - A\n",
        "\n",
        "06 - D\n",
        "\n",
        "07 - C\n",
        "\n",
        "08 - C\n",
        "\n",
        "09 - A\n",
        "\n",
        "10 - B\n",
        "\n",
        "\n",
        "10 - Un instituto de meteorología desea realizar un estudio de la temperatura media de cada mes del año. Para ello, debes crear un código que recoja y almacene esas temperaturas medias en una lista. Luego, calcula el promedio anual de las temperaturas y muestra todas las temperaturas por encima del promedio anual y en qué mes ocurrieron, mostrando los meses por su nombre (Enero, Febrero, etc.).\n",
        "\n",
        "11 - Una empresa de comercio electrónico está interesada en analizar las ventas de sus productos. Los datos de ventas se han almacenado en un diccionario:\n",
        "\n",
        "{'Producto A': 300, 'Producto B': 80, 'Producto C': 60, 'Producto D': 200, 'Producto E': 250, 'Producto F': 30}\n",
        "\n",
        "Escribe un código que calcule el total de ventas y el producto más vendido.\n",
        "\n",
        "12 - Se realizó una encuesta de mercado para decidir cuál diseño de marca infantil es más atractivo para los niños. Los votos de la encuesta se pueden ver a continuación:\n",
        "\n",
        "Tabla de votos de la marca\n",
        "Diseño 1 - 1334 votos\n",
        "\n",
        "Diseño 2 - 982 votos\n",
        "\n",
        "Diseño 3 - 1751 votos\n",
        "\n",
        "Diseño 4 - 210 votos\n",
        "\n",
        "Diseño 5 - 1811 votos\n",
        "\n",
        "\n",
        "Adapta los datos proporcionados a una estructura de diccionario. A partir de ello, informa el diseño ganador y el porcentaje de votos recibidos.\n",
        "\n",
        "13 - Los empleados de un departamento de tu empresa recibirán una bonificación del 10% de su salario debido a un excelente rendimiento del equipo. El departamento de finanzas ha solicitado tu ayuda para verificar las consecuencias financieras de esta bonificación en los recursos. Se te ha enviado una lista con los salarios que recibirán la bonificación: [1172, 1644, 2617, 5130, 5532, 6341, 6650, 7238, 7685, 7782, 7903]. La bonificación de cada empleado no puede ser inferior a 200. En el código, convierte cada uno de los salarios en claves de un diccionario y la bonificación de cada salario en el valor correspondiente. Luego, informa el gasto total en bonificaciones, cuántos empleados recibieron la bonificación mínima y cuál fue el valor más alto de la bonificación proporcionada.\n",
        "\n",
        "14 - Un equipo de científicos de datos está estudiando la diversidad biológica en un bosque. El equipo recopiló información sobre el número de especies de plantas y animales en cada área del bosque y almacenó estos datos en un diccionario. En él, la clave describe el área de los datos y los valores en las listas corresponden a las especies de plantas y animales en esas áreas, respectivamente.\n",
        "\n",
        "{'Área Norte': [2819, 7236], 'Área Leste': [1440, 9492], 'Área Sul': [5969, 7496], 'Área Oeste': [14446, 49688], 'Área Centro': [22558, 45148]}\n",
        "\n",
        "Escribe un código para calcular el promedio de especies por área e identificar el área con la mayor diversidad biológica. Sugerencia: utiliza las funciones incorporadas sum() y len().\n",
        "\n",
        "15 - El departamento de Recursos Humanos de tu empresa te pidió ayuda para analizar las edades de los colaboradores de 4 sectores de la empresa. Para ello, te proporcionaron los siguientes datos:\n",
        "\n",
        "{'Setor A': [22, 26, 30, 30, 35, 38, 40, 56, 57, 65],\n",
        "\n",
        " 'Setor B': [22, 24, 26, 33, 41, 49, 50, 54, 60, 64],\n",
        "\n",
        " 'Setor C': [23, 26, 26, 29, 34, 35, 36, 41, 52, 56],\n",
        "\n",
        " 'Setor D': [19, 20, 25, 27, 34, 39, 42, 44, 50, 65]}"
      ],
      "metadata": {
        "id": "58PBwTqZwamV"
      }
    },
    {
      "cell_type": "code",
      "source": [],
      "metadata": {
        "id": "AvAbmCMdwVAO"
      },
      "execution_count": null,
      "outputs": []
    }
  ]
}