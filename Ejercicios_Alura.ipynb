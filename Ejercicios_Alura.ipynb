{
  "nbformat": 4,
  "nbformat_minor": 0,
  "metadata": {
    "colab": {
      "provenance": [],
      "authorship_tag": "ABX9TyPRRCofHcLJIP2xZBhQNsJ5",
      "include_colab_link": true
    },
    "kernelspec": {
      "name": "python3",
      "display_name": "Python 3"
    },
    "language_info": {
      "name": "python"
    }
  },
  "cells": [
    {
      "cell_type": "markdown",
      "metadata": {
        "id": "view-in-github",
        "colab_type": "text"
      },
      "source": [
        "<a href=\"https://colab.research.google.com/github/MTEmmanue/Primeros_Pasos_Python/blob/main/Ejercicios_Alura.ipynb\" target=\"_parent\"><img src=\"https://colab.research.google.com/assets/colab-badge.svg\" alt=\"Open In Colab\"/></a>"
      ]
    },
    {
      "cell_type": "markdown",
      "source": [
        "# Modulo 1\n",
        "### Comenzando con Python"
      ],
      "metadata": {
        "id": "ss-fl0d8Qwx1"
      }
    },
    {
      "cell_type": "code",
      "execution_count": 6,
      "metadata": {
        "colab": {
          "base_uri": "https://localhost:8080/"
        },
        "id": "D_j5aZaAQnnn",
        "outputId": "13a3dbfc-fad4-42cf-e8ad-a1b7b2034ba7"
      },
      "outputs": [
        {
          "output_type": "stream",
          "name": "stdout",
          "text": [
            "Escuela de Datos de Alura\n"
          ]
        }
      ],
      "source": [
        "# 1 - Imprime la frase \"Escuela de Datos de Alura\".\n",
        "print(\"Escuela de Datos de Alura\")"
      ]
    },
    {
      "cell_type": "code",
      "source": [
        "# 2 - Imprime tu nombre y tu apellido siguiendo la estructura a continuación:\n",
        "#Nombre: [tu nombre]\n",
        "#Apellido: [tu apellido]\n",
        "print(\"Nombre: Alvaro\")\n",
        "print(\"Apellido: Herrera\")"
      ],
      "metadata": {
        "colab": {
          "base_uri": "https://localhost:8080/"
        },
        "id": "ApaCH3GSRIjK",
        "outputId": "161ebc9f-e3ae-4088-9b5f-5241201a856b"
      },
      "execution_count": 1,
      "outputs": [
        {
          "output_type": "stream",
          "name": "stdout",
          "text": [
            "Nombre: Alvaro\n",
            "Apellido: Herrera\n"
          ]
        }
      ]
    },
    {
      "cell_type": "code",
      "source": [
        "# 3 - Imprime tu primer nombre letra por letra. Por ejemplo, si mi nombre es Álvaro, la salida sería:\n",
        "\n",
        "# Á\n",
        "# L\n",
        "# V\n",
        "# A\n",
        "# R\n",
        "# O\n",
        "print('Á')\n",
        "print('L')\n",
        "print('V')\n",
        "print('A')\n",
        "print('R')\n",
        "print('O')"
      ],
      "metadata": {
        "id": "jSzs9OqyRfS0"
      },
      "execution_count": 2,
      "outputs": []
    },
    {
      "cell_type": "code",
      "source": [
        "# 4 - Imprime tu fecha de nacimiento en formato día mes año. Recuerda que los valores de día y año no deben estar entre comillas. Suponiendo una fecha de cumpleaños el 28 de febrero de 2003, el formato debe ser como el siguiente:\n",
        "\n",
        "# 28 febrero 2003\n",
        "print(28, 'febrero', 2003)"
      ],
      "metadata": {
        "colab": {
          "base_uri": "https://localhost:8080/"
        },
        "id": "IzfrCOxSRpp_",
        "outputId": "62ba7689-36eb-45ae-de00-93163b614b28"
      },
      "execution_count": 4,
      "outputs": [
        {
          "output_type": "stream",
          "name": "stdout",
          "text": [
            "28 febrero 2003\n"
          ]
        }
      ]
    },
    {
      "cell_type": "code",
      "source": [
        "# 5 - Imprime, en una sola instrucción print, el año actual en el que estás realizando este curso. El valor del año debe ser un dato numérico, y la salida de print debe ser la siguiente:\n",
        "\n",
        "# Año actual: [año]\n",
        "print('Año actual:', 2023)"
      ],
      "metadata": {
        "colab": {
          "base_uri": "https://localhost:8080/"
        },
        "id": "IJbxzyHlRuw3",
        "outputId": "3f220c3c-7413-4980-db94-bf6f101f68b2"
      },
      "execution_count": 5,
      "outputs": [
        {
          "output_type": "stream",
          "name": "stdout",
          "text": [
            "Año actual: 2023\n"
          ]
        }
      ]
    }
  ]
}