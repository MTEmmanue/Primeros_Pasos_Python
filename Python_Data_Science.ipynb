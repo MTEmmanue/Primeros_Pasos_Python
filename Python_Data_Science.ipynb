{
  "cells": [
    {
      "cell_type": "markdown",
      "metadata": {
        "colab_type": "text",
        "id": "view-in-github"
      },
      "source": [
        "<a href=\"https://colab.research.google.com/github/MTEmmanue/Primeros_Pasos_Python/blob/main/Python_Data_Science.ipynb\" target=\"_parent\"><img src=\"https://colab.research.google.com/assets/colab-badge.svg\" alt=\"Open In Colab\"/></a>"
      ]
    },
    {
      "cell_type": "markdown",
      "metadata": {
        "id": "lQx6Mmv0OJyT"
      },
      "source": [
        "# Python para Data Science\n",
        "\n",
        "Notebook para el curso de Python para Data Science publicado en la plataforma de [Alura Latam](https://www.aluracursos.com/)"
      ]
    },
    {
      "cell_type": "markdown",
      "metadata": {
        "id": "7SiB6JIpYKmY"
      },
      "source": [
        "# Introducción a Python\n",
        "¡Vamos a conocer Python, nuestro ambiente de estudio, y también generaremos nuestro primer código en este lenguaje!\n",
        "\n",
        "\n",
        "Python es Un lenguaje de programación multiparadigma: que permite programar utilizando diferentes paradigmas, como el funcional y el de orientación a objetos.\n",
        "\n",
        "Ademas es un lenguaje **interpretado**, es un intérprete lee y ejecuta el código línea por línea. Esto permite corregir errores de manera más rápida, ya que se pueden hacer ajustes en tiempo real.\n"
      ]
    },
    {
      "cell_type": "markdown",
      "metadata": {
        "id": "Yugfb3fCOYY9"
      },
      "source": [
        "## Google Colaboratory\n",
        "\n",
        "\n",
        "\n",
        "Ya aprendimos qué es [Python](https://www.python.org/) y ahora aprenderemos a usar nuestra herramienta de ejecución [Google Colaboratory](https://colab.research.google.com/) para programar en un notebook interactivo.\n",
        "\n",
        " Google Colab es una plataforma que permite trabajar con Python de manera interactiva sin necesidad de instalar nada en la máquina. Solo se necesita una cuenta de Gmail.\n",
        "Cuadernos (notebooks): Los archivos en Google Colab tienen la extensión **.ipynb**, que significa \"notebook interactivo de Python\" o Cuaderno de Python Interactivo. Esto permite organizar el código y los textos de manera efectiva.\n",
        "\n",
        "                                                         i → interactivo\n",
        "                                                         py → python\n",
        "                                                         nb → notebook\n",
        "                                                            ipynb               \n",
        "Vamos a probar algunas funciones de este ambiente."
      ]
    },
    {
      "cell_type": "markdown",
      "metadata": {
        "id": "2iUHQsJasJAk"
      },
      "source": [
        " **`>>> Usa esta celda para mover <<<`**"
      ]
    },
    {
      "cell_type": "markdown",
      "metadata": {
        "id": "iuF3jaYCfkAG"
      },
      "source": [
        "\n",
        "# Importancia de los comandos\n",
        "*Colab al ser una herramienta muy utilizada en el campo de Data Science, por lo que es importante tener una serie de comandos que nos faciliten mas la pracritividad a la hora de hacer nuestros proyectos*\n",
        "\n",
        "**Comandos**\n",
        "- esc + b -> Para crear una celda de codigo\n",
        "- ctrl + a -> Para crear una celda de texto o Markown\n",
        "- ctrl + enter -> Ejecuta la celda\n",
        "- shift + enter -> Ejecuta una celda y crea otra celda abajo\n",
        "\n",
        "**Estos comandos los cree de mi autoria, son los que mas me facilitan**\n",
        "\n",
        "Para crear tus propios comandos los puedes hacer con los siguientes pasos:\n",
        "1. En la parte superior seleccionar el apartado de Herramientas\n",
        "2. Irte a la sección de Combinaciones de teclas\n",
        "3. Busca la acción que deseas ejecutar con un comando\n",
        "4. Selecciona las teclas que vas a usar para ejecutar esa acción"
      ]
    },
    {
      "cell_type": "markdown",
      "metadata": {
        "id": "aLSFP2V7XTfe"
      },
      "source": [
        "## ¡Hola mundo!\n",
        "\n",
        "Vamos a conocer un poco más de cerca nuestro notebook. Para ello ejecutaremos nuestro primer comando en Python: [`print()`](https://docs.python.org/3/library/functions.html#print)"
      ]
    },
    {
      "cell_type": "code",
      "execution_count": 2,
      "metadata": {
        "colab": {
          "base_uri": "https://localhost:8080/"
        },
        "id": "0qZX8_ZQBYyk",
        "outputId": "5289cd2a-f08c-4bad-b93b-0df70cd78888"
      },
      "outputs": [
        {
          "name": "stdout",
          "output_type": "stream",
          "text": [
            "Hola Mundo\n"
          ]
        }
      ],
      "source": [
        "# Para imprimir algo debemos de seguir una estructura\n",
        "\n",
        "# Primero llamamos a print que es la funcion que nos va imprimir\n",
        "\n",
        "print(\"Hola Mundo\")\n",
        "\n",
        "# Entre las llaves se pondra el contenido que se quiere poner\n",
        "# En este caso quremos poner puro texto, por lo que necesitamos poner \"\" las comillas son para decir que un elemnto es de tipo texto"
<<<<<<< HEAD
=======
      ],
      "metadata": {
        "id": "0qZX8_ZQBYyk",
        "colab": {
          "base_uri": "https://localhost:8080/"
        },
        "outputId": "5289cd2a-f08c-4bad-b93b-0df70cd78888"
      },
      "execution_count": null,
      "outputs": [
        {
          "output_type": "stream",
          "name": "stdout",
          "text": [
            "Hola Mundo\n"
          ]
        }
>>>>>>> 31fe2811549db73f988557cf2bcce0aafd3f2bd0
      ]
    },
    {
      "cell_type": "code",
      "execution_count": 3,
      "metadata": {
        "colab": {
          "base_uri": "https://localhost:8080/"
        },
        "id": "zWn8F_VRnstC",
        "outputId": "3a8a99e8-17b0-4a97-8c35-3836ecda5ef4"
      },
<<<<<<< HEAD
=======
      "execution_count": null,
>>>>>>> 31fe2811549db73f988557cf2bcce0aafd3f2bd0
      "outputs": [
        {
          "name": "stdout",
          "output_type": "stream",
          "text": [
            "28\n"
          ]
        }
      ],
      "source": [
        "# Tambien se pueden imprimir datos numericos sin usar comillas\n",
        "print(28)"
      ]
    },
    {
      "cell_type": "code",
      "execution_count": 5,
      "metadata": {
        "colab": {
          "base_uri": "https://localhost:8080/"
        },
        "id": "ubp-NMs8nvei",
        "outputId": "0e96fa77-f3ed-463a-e015-416f4945bd09"
      },
<<<<<<< HEAD
=======
      "execution_count": null,
>>>>>>> 31fe2811549db73f988557cf2bcce0aafd3f2bd0
      "outputs": [
        {
          "name": "stdout",
          "output_type": "stream",
          "text": [
            "El año actual es 2025\n"
          ]
        }
      ],
      "source": [
        "# Para combinar datos de tipo texto y numericos se separan con una coma ,\n",
        "print(\"El año actual es\", 2025)"
      ]
    },
    {
      "cell_type": "markdown",
      "metadata": {
        "id": "iP8uWQmFYFRs"
      },
      "source": [
        "# Manipulando los datos\n",
        "\n",
        "Vamos a aprender sobre las variables en Python, cómo declararlas y utilizarlas además de conocer otros comandos de este lenguaje. :D"
      ]
    },
    {
      "cell_type": "markdown",
      "metadata": {
        "id": "sLNVmnTbag1Z"
      },
      "source": [
        "## Variables\n",
        "\n",
        "En Data Science trabajamos con varios tipos de datos e informaciones, entonces es esencial saber cómo trabajar con las variables."
      ]
    },
    {
      "cell_type": "markdown",
      "metadata": {
        "id": "lsCY0wahAbf6"
      },
      "source": [
        "Las variables en Python se crean cuando atribuimos un valor a ella.\n",
        "\n",
        "Para esto, colocamos el nombre de la variable, el signo de igual (`=`) y el valor que queremos atribuirle."
      ]
    },
    {
      "cell_type": "code",
<<<<<<< HEAD
      "execution_count": null,
=======
      "source": [
        "5"
      ],
>>>>>>> 31fe2811549db73f988557cf2bcce0aafd3f2bd0
      "metadata": {
        "id": "vsHh5buZADND",
        "colab": {
          "base_uri": "https://localhost:8080/"
        },
        "outputId": "0b85ff2c-4e77-40b3-f325-01bcf7e6cd50"
      },
<<<<<<< HEAD
      "outputs": [],
      "source": []
    },
    {
      "cell_type": "code",
      "execution_count": null,
=======
      "execution_count": null,
      "outputs": [
        {
          "output_type": "execute_result",
          "data": {
            "text/plain": [
              "5"
            ]
          },
          "metadata": {},
          "execution_count": 1
        }
      ]
    },
    {
      "cell_type": "code",
      "source": [
        "id(5) #la función id devuelve la dirección de memoria de un objeto"
      ],
>>>>>>> 31fe2811549db73f988557cf2bcce0aafd3f2bd0
      "metadata": {
        "id": "sivPtqSjADQV",
        "colab": {
          "base_uri": "https://localhost:8080/"
        },
        "outputId": "650aa7a2-1b80-4143-d8f8-a4a0098e2a22"
      },
<<<<<<< HEAD
      "outputs": [],
      "source": []
    },
    {
      "cell_type": "code",
      "execution_count": null,
=======
      "execution_count": null,
      "outputs": [
        {
          "output_type": "execute_result",
          "data": {
            "text/plain": [
              "10750984"
            ]
          },
          "metadata": {},
          "execution_count": 2
        }
      ]
    },
    {
      "cell_type": "code",
      "source": [
        "numerocinco = 5"
      ],
>>>>>>> 31fe2811549db73f988557cf2bcce0aafd3f2bd0
      "metadata": {
        "id": "JC8jO47wADlm"
      },
      "outputs": [],
      "source": []
    },
    {
      "cell_type": "code",
      "source": [
        "id(numerocinco) #Observamos que la dirección es la misma"
      ],
      "metadata": {
        "colab": {
          "base_uri": "https://localhost:8080/"
        },
        "id": "G9CjKEDqc3Fc",
        "outputId": "304c5e38-988c-4d55-bb96-8c128385b92f"
      },
      "execution_count": null,
      "outputs": [
        {
          "output_type": "execute_result",
          "data": {
            "text/plain": [
              "10750984"
            ]
          },
          "metadata": {},
          "execution_count": 4
        }
      ]
    },
    {
      "cell_type": "code",
      "source": [
        "nombre = \"Penelope Camacho\"\n",
        "print(nombre)\n",
        "id(nombre)"
      ],
      "metadata": {
        "colab": {
          "base_uri": "https://localhost:8080/"
        },
        "id": "32xz-z_Idisc",
        "outputId": "5e94762e-4999-4ff2-eb56-1496689f7fb4"
      },
      "execution_count": null,
      "outputs": [
        {
          "output_type": "stream",
          "name": "stdout",
          "text": [
            "Penelope Camacho\n"
          ]
        },
        {
          "output_type": "execute_result",
          "data": {
            "text/plain": [
              "133404057511504"
            ]
          },
          "metadata": {},
          "execution_count": 6
        }
      ]
    },
    {
      "cell_type": "code",
      "source": [
        "id(\"Penelope Camacho\")"
      ],
      "metadata": {
        "colab": {
          "base_uri": "https://localhost:8080/"
        },
        "id": "sO0naOVldtwH",
        "outputId": "d1da6201-121e-4485-8ab8-3c745660117f"
      },
      "execution_count": null,
      "outputs": [
        {
          "output_type": "execute_result",
          "data": {
            "text/plain": [
              "133404058213456"
            ]
          },
          "metadata": {},
          "execution_count": 7
        }
      ]
    },
    {
      "cell_type": "markdown",
      "metadata": {
        "id": "om2N0jHKAzwL"
      },
      "source": [
        "Existen algunos tipos de nomes que **no** podemos definir para las variables:\n",
        "\n",
        "- **Nombres que comiencen con números**\n",
        "  - Ejemplos: `10_notas`, `2_nombre_casa`, etc.\n",
        "- **Palabras separadas por espacio**\n",
        "  - Ejemplos: `Nombre escuela`, `notas estudiantes`, etc.\n",
        "- **Nombres de funciones de Python**\n",
        "  - Ejemplos: `print`, `type`, etc."
      ]
    },
    {
      "cell_type": "markdown",
      "metadata": {
        "id": "A19vY2GVMujB"
      },
      "source": [
        "> Las letras mayúsculas y minúsculas generarán diferentes variables. La variable `edad` es diferente de `Edad` que a su vez es diferente de `EDAD`:\n",
        "``` Python\n",
        "edad = 1\n",
        "Edad = 2\n",
        "EDAD = 3\n",
        "_edad = 4\n",
        "_edad_ = 5\n",
        "print(edad, Edad, EDAD, _edad, _edad_)\n",
        "1 2 3 4 5\n",
        "```"
      ]
    },
    {
      "cell_type": "markdown",
      "metadata": {
        "id": "UqhzuBhBHsps"
      },
      "source": [
        "## Tipos de variables\n",
        "\n",
        "Cada variable contiene una clase específica con respecto al tipo de objeto al cual esta hace referencia. Estas clases serán diferentes de acuerdo con el tipo de dato que le sea atribuido a una variable.\n",
        "\n",
        "Para conocer la clase de cada elemento usamos la función [`type()`](https://docs.python.org/3/library/functions.html#type)"
      ]
    },
    {
      "cell_type": "code",
<<<<<<< HEAD
      "execution_count": null,
=======
      "source": [
        "edad = 5"
      ],
>>>>>>> 31fe2811549db73f988557cf2bcce0aafd3f2bd0
      "metadata": {
        "id": "J5a9t73A_-PX"
      },
      "outputs": [],
      "source": []
    },
    {
      "cell_type": "code",
<<<<<<< HEAD
      "execution_count": null,
=======
      "source": [
        "type(edad) # Variable numerica entera"
      ],
>>>>>>> 31fe2811549db73f988557cf2bcce0aafd3f2bd0
      "metadata": {
        "id": "rqmO1ew-_-So",
        "colab": {
          "base_uri": "https://localhost:8080/"
        },
        "outputId": "209185f3-22f2-4eac-c351-5e51411d185a"
      },
<<<<<<< HEAD
      "outputs": [],
      "source": []
    },
    {
      "cell_type": "code",
      "execution_count": null,
=======
      "execution_count": null,
      "outputs": [
        {
          "output_type": "execute_result",
          "data": {
            "text/plain": [
              "int"
            ]
          },
          "metadata": {},
          "execution_count": 9
        }
      ]
    },
    {
      "cell_type": "code",
      "source": [
        "promedio = 9.5 # Variable de tipo numerico con decimales = float o flotantes\n",
        "type(promedio)"
      ],
>>>>>>> 31fe2811549db73f988557cf2bcce0aafd3f2bd0
      "metadata": {
        "id": "xkrPMkeY_-cP",
        "colab": {
          "base_uri": "https://localhost:8080/"
        },
        "outputId": "530a472b-3c2b-49f4-a33c-d24865ea67e4"
      },
<<<<<<< HEAD
      "outputs": [],
      "source": []
=======
      "execution_count": null,
      "outputs": [
        {
          "output_type": "execute_result",
          "data": {
            "text/plain": [
              "float"
            ]
          },
          "metadata": {},
          "execution_count": 10
        }
      ]
    },
    {
      "cell_type": "code",
      "source": [
        "nombre = \"Penelope Camacho\" # Variable de tipo texto\n",
        "type(nombre)"
      ],
      "metadata": {
        "id": "Hcl6p7GThs5L",
        "outputId": "a03ec109-bdc1-48a7-d2dd-b1185b9ad435",
        "colab": {
          "base_uri": "https://localhost:8080/"
        }
      },
      "execution_count": null,
      "outputs": [
        {
          "output_type": "execute_result",
          "data": {
            "text/plain": [
              "str"
            ]
          },
          "metadata": {},
          "execution_count": 11
        }
      ]
    },
    {
      "cell_type": "code",
      "source": [
        "v = True # Variable de tipo boleano o verdadero y falso\n",
        "type(v)"
      ],
      "metadata": {
        "id": "CECI3839iHz2",
        "outputId": "f105191b-001b-489c-bd6d-afc806dc599a",
        "colab": {
          "base_uri": "https://localhost:8080/"
        }
      },
      "execution_count": null,
      "outputs": [
        {
          "output_type": "execute_result",
          "data": {
            "text/plain": [
              "bool"
            ]
          },
          "metadata": {},
          "execution_count": 13
        }
      ]
>>>>>>> 31fe2811549db73f988557cf2bcce0aafd3f2bd0
    },
    {
      "cell_type": "markdown",
      "metadata": {
        "id": "O-FxDumfWu0C"
      },
      "source": [
        "En un conjunto de datos escolares podemos tener varios tipos de informaciones. Supongamos que tenemos acceso a la ficha de datos del alumno *Penélope Camacho*, cómo transformamos este nombre en variables de Python?\n",
        "\n",
        "#### Ficha:\n",
        "\n",
        "- Nombre: Penélope Camacho\n",
        "- Edad: 11 años\n",
        "- Promedio del semestre: 9,75\n",
        "- Situación de aprobación: Verdadera (aprobado)"
      ]
    },
    {
      "cell_type": "code",
<<<<<<< HEAD
      "execution_count": null,
=======
      "source": [
        "nombre_estudiante =  \"Penelope Camacho\"\n",
        "edad_estudiante = 11\n",
        "promedio_estudiante = 9.75\n",
        "Aprobada = True\n",
        "\n",
        "print(nombre_estudiante,edad_estudiante,promedio_estudiante,Aprobada)"
      ],
>>>>>>> 31fe2811549db73f988557cf2bcce0aafd3f2bd0
      "metadata": {
        "id": "FabQ7jQf_8Xt",
        "colab": {
          "base_uri": "https://localhost:8080/"
        },
        "outputId": "5402d3fb-8796-4223-fb0f-da860758f7a1"
      },
<<<<<<< HEAD
      "outputs": [],
      "source": []
    },
    {
      "cell_type": "code",
      "execution_count": null,
=======
      "execution_count": null,
      "outputs": [
        {
          "output_type": "stream",
          "name": "stdout",
          "text": [
            "Penelope Camacho 11 9.75 True\n"
          ]
        }
      ]
    },
    {
      "cell_type": "code",
      "source": [
        "print(type(nombre_estudiante))\n",
        "print(type(edad_estudiante))\n",
        "print(type(promedio_estudiante))\n",
        "print(type(Aprobada))"
      ],
>>>>>>> 31fe2811549db73f988557cf2bcce0aafd3f2bd0
      "metadata": {
        "id": "IZLQnZUj_8bd",
        "colab": {
          "base_uri": "https://localhost:8080/"
        },
        "outputId": "28a6b500-9ae7-408a-badf-a023ec40f189"
      },
<<<<<<< HEAD
      "outputs": [],
      "source": []
=======
      "execution_count": null,
      "outputs": [
        {
          "output_type": "stream",
          "name": "stdout",
          "text": [
            "<class 'str'>\n",
            "<class 'int'>\n",
            "<class 'float'>\n",
            "<class 'bool'>\n"
          ]
        }
      ]
>>>>>>> 31fe2811549db73f988557cf2bcce0aafd3f2bd0
    },
    {
      "cell_type": "markdown",
      "metadata": {
        "id": "KFq_8Sxf-OG0"
      },
      "source": [
        "## Variables numéricas\n",
        "\n",
        "Entre los tipos de datos numéricos vamos a enfocarnos en los tipos `entero` y `float`."
      ]
    },
    {
      "cell_type": "markdown",
      "metadata": {
        "id": "8_HYUbkVYdQY"
      },
      "source": [
        "Tenemos una tabla de información sobre los diversos cargos, cantidad de personas empleadas y el salario correspondiente:\n",
        "\n",
        "|Cargo | Cantidad | Salario|\n",
        "|---|---|---|\n",
        "|Vigilante | 5 | 300 |\n",
        "|Docente | 16| 500|\n",
        "|Coordinador| 2 |600|\n",
        "\n",
        "Necesitamos trabajar con estos datos para obtener:\n",
        "\n",
        "- La cantidad total de empleados;\n",
        "- La diferencia entre el salario más bajo y más alto; y\n",
        "- El promedio ponderado de los salarios de los empleados de la escuela."
      ]
    },
    {
      "cell_type": "code",
<<<<<<< HEAD
      "execution_count": null,
=======
      "source": [
        "c_vigialntes = 5\n",
        "c_docentes = 16\n",
        "c_coordinadores = 2\n",
        "\n",
        "s_vigialntes = 300\n",
        "s_docentes = 500\n",
        "s_coordinadores = 600"
      ],
>>>>>>> 31fe2811549db73f988557cf2bcce0aafd3f2bd0
      "metadata": {
        "id": "F_X-wxdm_5Ys"
      },
      "outputs": [],
      "source": []
    },
    {
      "cell_type": "code",
<<<<<<< HEAD
      "execution_count": null,
=======
      "source": [
        "total_e = c_vigialntes + c_docentes + c_coordinadores\n",
        "total_e"
      ],
>>>>>>> 31fe2811549db73f988557cf2bcce0aafd3f2bd0
      "metadata": {
        "id": "gKmBbhII_5b9",
        "colab": {
          "base_uri": "https://localhost:8080/"
        },
        "outputId": "a774631b-3a8d-4191-b95b-5d387d658da6"
      },
<<<<<<< HEAD
      "outputs": [],
      "source": []
    },
    {
      "cell_type": "code",
      "execution_count": null,
=======
      "execution_count": null,
      "outputs": [
        {
          "output_type": "execute_result",
          "data": {
            "text/plain": [
              "23"
            ]
          },
          "metadata": {},
          "execution_count": 18
        }
      ]
    },
    {
      "cell_type": "code",
      "source": [
        "diferensia_salarial = s_coordinadores - s_vigialntes\n",
        "diferensia_salarial"
      ],
>>>>>>> 31fe2811549db73f988557cf2bcce0aafd3f2bd0
      "metadata": {
        "id": "fIugsxNy_53j",
        "colab": {
          "base_uri": "https://localhost:8080/"
        },
        "outputId": "6bc8c083-2529-4228-a6a9-a67f15b34d1f"
      },
<<<<<<< HEAD
      "outputs": [],
      "source": []
=======
      "execution_count": null,
      "outputs": [
        {
          "output_type": "execute_result",
          "data": {
            "text/plain": [
              "300"
            ]
          },
          "metadata": {},
          "execution_count": 19
        }
      ]
    },
    {
      "cell_type": "code",
      "source": [
        "promedios_salarios = (s_vigialntes * c_vigialntes + s_docentes * c_docentes +\n",
        "                      s_coordinadores * c_coordinadores) / (c_vigialntes + c_docentes + c_coordinadores)\n",
        "promedios_salarios"
      ],
      "metadata": {
        "id": "-DYFQ0Bekhox",
        "outputId": "b66dece4-8b42-4c70-820c-58d17a0cd572",
        "colab": {
          "base_uri": "https://localhost:8080/"
        }
      },
      "execution_count": null,
      "outputs": [
        {
          "output_type": "execute_result",
          "data": {
            "text/plain": [
              "465.2173913043478"
            ]
          },
          "metadata": {},
          "execution_count": 21
        }
      ]
    },
    {
      "cell_type": "code",
      "source": [
        "type(promedios_salarios)"
      ],
      "metadata": {
        "id": "kd3gNHJ0k6XB",
        "outputId": "348f204a-bdee-4899-8dfa-72f48712c8d0",
        "colab": {
          "base_uri": "https://localhost:8080/"
        }
      },
      "execution_count": null,
      "outputs": [
        {
          "output_type": "execute_result",
          "data": {
            "text/plain": [
              "float"
            ]
          },
          "metadata": {},
          "execution_count": 22
        }
      ]
>>>>>>> 31fe2811549db73f988557cf2bcce0aafd3f2bd0
    },
    {
      "cell_type": "markdown",
      "metadata": {
        "id": "yQy7b0ZWoD-P"
      },
      "source": [
        "## Strings"
      ]
    },
    {
      "cell_type": "markdown",
      "metadata": {
        "id": "vlo2-DXusv3s"
      },
      "source": [
        "Strings hace referencia a un conjunto de caracteres formando un texto.\n",
        "\n",
        "Podemos crear Strings cuando atribuimos un dato a una variable entre comillas sencillas (`'`) o comillas dobles (`\"`)."
      ]
    },
    {
      "cell_type": "code",
<<<<<<< HEAD
      "execution_count": null,
=======
      "source": [
        "t = 'Alura'\n",
        "type(t)"
      ],
>>>>>>> 31fe2811549db73f988557cf2bcce0aafd3f2bd0
      "metadata": {
        "id": "ityEWqvh_2wK",
        "colab": {
          "base_uri": "https://localhost:8080/"
        },
        "outputId": "1ac6f1fb-f3db-46c4-c331-5afd0393ae18"
      },
<<<<<<< HEAD
      "outputs": [],
      "source": []
=======
      "execution_count": 48,
      "outputs": [
        {
          "output_type": "execute_result",
          "data": {
            "text/plain": [
              "str"
            ]
          },
          "metadata": {},
          "execution_count": 48
        }
      ]
>>>>>>> 31fe2811549db73f988557cf2bcce0aafd3f2bd0
    },
    {
      "cell_type": "markdown",
      "metadata": {
        "id": "2e9UD_CCxqz_"
      },
      "source": [
        "Las variables textuales son objetos que poseen métodos que nos ayudan a formatear strings. Los métodos los podemos ejecutar al definir un objeto de acuerdo con la siguiente estructura:\n",
        "\n",
        "```\n",
        "objeto.metodo()\n",
        "```\n",
        "\n",
        "Existen métodos que no necesitan los `()`, siempre es una buena práctica verificar la documentación para cada caso."
      ]
    },
    {
      "cell_type": "markdown",
      "metadata": {
        "id": "p6aPmMGP4tf9"
      },
      "source": [
        "---\n",
        "**Situación:**\n",
        "\n",
        "Recibimos una variable con el nombre de una profesora de la escuela para añadirla a los registros. Sin embargo, necesitamos darle un tratamiento a este texto antes de insertarlo al sistema."
      ]
    },
    {
      "cell_type": "code",
<<<<<<< HEAD
      "execution_count": null,
=======
      "source": [
        "texto = '  Micaela de los Sanyos '\n",
        "id(texto)"
      ],
>>>>>>> 31fe2811549db73f988557cf2bcce0aafd3f2bd0
      "metadata": {
        "id": "icDWtYTjBO0n",
        "colab": {
          "base_uri": "https://localhost:8080/"
        },
        "outputId": "cdd76912-5f91-47e2-94d1-bf05d60d18ab"
      },
<<<<<<< HEAD
      "outputs": [],
      "source": [
        "texto = '  Micaela de los Sanyos '"
=======
      "execution_count": 49,
      "outputs": [
        {
          "output_type": "execute_result",
          "data": {
            "text/plain": [
              "140528562516768"
            ]
          },
          "metadata": {},
          "execution_count": 49
        }
>>>>>>> 31fe2811549db73f988557cf2bcce0aafd3f2bd0
      ]
    },
    {
      "cell_type": "markdown",
      "metadata": {
        "id": "Dg2ZXSZOGzjC"
      },
      "source": [
        "El objetivo final es que el nombre aparezca de la siguiente forma:\n",
        "\n",
        "```\n",
        "'MICAELA DE LOS SANTOS'\n",
        "```"
      ]
    },
    {
      "cell_type": "markdown",
      "metadata": {
        "id": "iVTAD8q702eN"
      },
      "source": [
        "### [`str.upper()` ](https://docs.python.org/3/library/stdtypes.html#str.upper)\n",
        "Convierte una string a mayúsculas."
      ]
    },
    {
      "cell_type": "code",
<<<<<<< HEAD
      "execution_count": null,
=======
      "source": [
        "texto.upper()"
      ],
>>>>>>> 31fe2811549db73f988557cf2bcce0aafd3f2bd0
      "metadata": {
        "id": "wMVshJrY_ZXh",
        "colab": {
          "base_uri": "https://localhost:8080/",
          "height": 35
        },
        "outputId": "ec05c17e-484b-453d-cca6-b3119e55473b"
      },
<<<<<<< HEAD
      "outputs": [],
      "source": []
=======
      "execution_count": 50,
      "outputs": [
        {
          "output_type": "execute_result",
          "data": {
            "text/plain": [
              "'  MICAELA DE LOS SANYOS '"
            ],
            "application/vnd.google.colaboratory.intrinsic+json": {
              "type": "string"
            }
          },
          "metadata": {},
          "execution_count": 50
        }
      ]
>>>>>>> 31fe2811549db73f988557cf2bcce0aafd3f2bd0
    },
    {
      "cell_type": "markdown",
      "metadata": {
        "id": "hbDSBtMV1TpG"
      },
      "source": [
        "### [`str.lower()`](https://docs.python.org/3/library/stdtypes.html#str.lower)\n",
        "Convierte una string a minúsculas."
      ]
    },
    {
      "cell_type": "code",
<<<<<<< HEAD
      "execution_count": null,
=======
      "source": [
        "texto.lower()"
      ],
>>>>>>> 31fe2811549db73f988557cf2bcce0aafd3f2bd0
      "metadata": {
        "id": "px3yEeNH_YK4",
        "colab": {
          "base_uri": "https://localhost:8080/",
          "height": 35
        },
        "outputId": "f09bedc9-75f3-4c22-f882-71ed0e7bb536"
      },
<<<<<<< HEAD
      "outputs": [],
      "source": []
=======
      "execution_count": 51,
      "outputs": [
        {
          "output_type": "execute_result",
          "data": {
            "text/plain": [
              "'  micaela de los sanyos '"
            ],
            "application/vnd.google.colaboratory.intrinsic+json": {
              "type": "string"
            }
          },
          "metadata": {},
          "execution_count": 51
        }
      ]
>>>>>>> 31fe2811549db73f988557cf2bcce0aafd3f2bd0
    },
    {
      "cell_type": "markdown",
      "metadata": {
        "id": "kz47eWM11gii"
      },
      "source": [
        "### [`str.strip()`](https://docs.python.org/3/library/stdtypes.html#str.strip)\n",
        "Elimina los espacios en blanco al inicio y al final de una string."
      ]
    },
    {
      "cell_type": "code",
<<<<<<< HEAD
      "execution_count": null,
=======
      "source": [
        "texto.strip()"
      ],
>>>>>>> 31fe2811549db73f988557cf2bcce0aafd3f2bd0
      "metadata": {
        "id": "76dLgNa4_XAe",
        "colab": {
          "base_uri": "https://localhost:8080/",
          "height": 35
        },
        "outputId": "4b588649-899a-47a0-9220-510fe9c7a049"
      },
<<<<<<< HEAD
      "outputs": [],
      "source": []
=======
      "execution_count": 52,
      "outputs": [
        {
          "output_type": "execute_result",
          "data": {
            "text/plain": [
              "'Micaela de los Sanyos'"
            ],
            "application/vnd.google.colaboratory.intrinsic+json": {
              "type": "string"
            }
          },
          "metadata": {},
          "execution_count": 52
        }
      ]
>>>>>>> 31fe2811549db73f988557cf2bcce0aafd3f2bd0
    },
    {
      "cell_type": "markdown",
      "metadata": {
        "id": "m6notiyS1SCV"
      },
      "source": [
        "### [`str.replace(antiguo, nuevo)`](https://docs.python.org/3/library/stdtypes.html#str.replace)\n",
        "\n",
        "Sustituye todas las ocurrencias del texto \"antiguo\" en la string por el  \"nuevo\"."
      ]
    },
    {
      "cell_type": "code",
<<<<<<< HEAD
      "execution_count": null,
=======
      "source": [
        "texto.replace('y','t')"
      ],
>>>>>>> 31fe2811549db73f988557cf2bcce0aafd3f2bd0
      "metadata": {
        "id": "PNXAixtE_V6R",
        "colab": {
          "base_uri": "https://localhost:8080/",
          "height": 35
        },
        "outputId": "e4bd3b38-586b-4c52-c173-d9c8f16541a6"
      },
<<<<<<< HEAD
      "outputs": [],
      "source": []
=======
      "execution_count": 53,
      "outputs": [
        {
          "output_type": "execute_result",
          "data": {
            "text/plain": [
              "'  Micaela de los Santos '"
            ],
            "application/vnd.google.colaboratory.intrinsic+json": {
              "type": "string"
            }
          },
          "metadata": {},
          "execution_count": 53
        }
      ]
>>>>>>> 31fe2811549db73f988557cf2bcce0aafd3f2bd0
    },
    {
      "cell_type": "markdown",
      "metadata": {
        "id": "zukvEjhG2Rcn"
      },
      "source": [
        "### Observaciones\n",
        "\n",
        "1. Los métodos devuelven una **tranformación**, no son ejecutados directamente sobre la variable donde está almacenado el texto.\n",
        "\n",
        "2. Adicionalmente, podemos acumular la ejecución de los métodos."
      ]
    },
    {
      "cell_type": "code",
<<<<<<< HEAD
      "execution_count": null,
=======
      "source": [
        "print(id(texto))"
      ],
>>>>>>> 31fe2811549db73f988557cf2bcce0aafd3f2bd0
      "metadata": {
        "id": "JjkBRklr_T5n",
        "colab": {
          "base_uri": "https://localhost:8080/"
        },
        "outputId": "e458235d-dd9c-4b53-8dba-7a8ddd762f14"
      },
<<<<<<< HEAD
      "outputs": [],
      "source": []
=======
      "execution_count": 60,
      "outputs": [
        {
          "output_type": "stream",
          "name": "stdout",
          "text": [
            "140528562516768\n"
          ]
        }
      ]
>>>>>>> 31fe2811549db73f988557cf2bcce0aafd3f2bd0
    },
    {
      "cell_type": "markdown",
      "metadata": {
        "id": "1KbwfVut2h6I"
      },
      "source": [
        "Para que la transformación se pueda ejecutar debemos atribuir la salida de las transformaciones a las variables"
      ]
    },
    {
      "cell_type": "code",
<<<<<<< HEAD
      "execution_count": null,
=======
      "source": [
        "new_texto = texto.strip().replace('y','t').upper()\n",
        "print(new_texto)\n",
        "print(id(texto),id(new_texto))"
      ],
>>>>>>> 31fe2811549db73f988557cf2bcce0aafd3f2bd0
      "metadata": {
        "id": "ocPP-Jaj_SJI",
        "colab": {
          "base_uri": "https://localhost:8080/"
        },
        "outputId": "e109bc09-1c00-4f5f-a7bb-84d3c7bf33ee"
      },
<<<<<<< HEAD
      "outputs": [],
      "source": []
    },
    {
      "cell_type": "code",
      "execution_count": null,
=======
      "execution_count": 63,
      "outputs": [
        {
          "output_type": "stream",
          "name": "stdout",
          "text": [
            "MICAELA DE LOS SANTOS\n",
            "140528564312368 140528562633776\n"
          ]
        }
      ]
    },
    {
      "cell_type": "code",
      "source": [
        "texto =  texto.strip().replace('y','t').upper()\n",
        "print(texto)\n",
        "print(id(texto), id(new_texto))"
      ],
>>>>>>> 31fe2811549db73f988557cf2bcce0aafd3f2bd0
      "metadata": {
        "colab": {
          "base_uri": "https://localhost:8080/"
        },
        "id": "yR63bzkvphpU",
        "outputId": "f1e4dc00-6bc0-47b8-f5f6-70e52bea89fa"
      },
<<<<<<< HEAD
      "outputs": [],
      "source": []
=======
      "execution_count": 65,
      "outputs": [
        {
          "output_type": "stream",
          "name": "stdout",
          "text": [
            "MICAELA DE LOS SANTOS\n",
            "140528562782112 140528562633776\n"
          ]
        }
      ]
>>>>>>> 31fe2811549db73f988557cf2bcce0aafd3f2bd0
    },
    {
      "cell_type": "markdown",
      "metadata": {
        "id": "0h9Fh5G9kHCa"
      },
      "source": [
        "## Capturando datos\n",
        "\n",
        "En algunas aplicaciones necesitamos capturar los valores del usuario de nuestro proyecto. En python, logramos capturar los datos del usuario a través del comando [`input()`](https://docs.python.org/3/library/functions.html#input).\n",
        "\n",
        "Para ejecutar la captura debemos atribuir el resultado de esta función a una variable."
      ]
    },
    {
      "cell_type": "code",
<<<<<<< HEAD
      "execution_count": null,
=======
      "source": [
        "nombre = input('Escribe tu nombre')"
      ],
>>>>>>> 31fe2811549db73f988557cf2bcce0aafd3f2bd0
      "metadata": {
        "id": "zbH_9i3q_PdY",
        "colab": {
          "base_uri": "https://localhost:8080/"
        },
        "outputId": "63400411-3b3b-47a7-c47b-9669fef58579"
      },
<<<<<<< HEAD
      "outputs": [],
      "source": []
    },
    {
      "cell_type": "code",
      "execution_count": null,
=======
      "execution_count": 66,
      "outputs": [
        {
          "name": "stdout",
          "output_type": "stream",
          "text": [
            "Escribe tu nombreAdolfo\n"
          ]
        }
      ]
    },
    {
      "cell_type": "code",
      "source": [
        "type(nombre)"
      ],
>>>>>>> 31fe2811549db73f988557cf2bcce0aafd3f2bd0
      "metadata": {
        "id": "JZy1Q9Tl_PgL",
        "colab": {
          "base_uri": "https://localhost:8080/"
        },
        "outputId": "b17866f4-2de9-4fff-d3a6-da68efa7ad25"
      },
<<<<<<< HEAD
      "outputs": [],
      "source": []
=======
      "execution_count": 68,
      "outputs": [
        {
          "output_type": "execute_result",
          "data": {
            "text/plain": [
              "str"
            ]
          },
          "metadata": {},
          "execution_count": 68
        }
      ]
>>>>>>> 31fe2811549db73f988557cf2bcce0aafd3f2bd0
    },
    {
      "cell_type": "markdown",
      "metadata": {
        "id": "7z7hcLCk_aCY"
      },
      "source": [
        "La salida de este comando siempre será una *string*. Esto quiere decir que aunque capturemos un valor de variable numérica, este será de tipo string.\n",
        "\n",
        "Entonces, será necesario **convertir el resultado cuando no se desea utilizar el valor como tipo string**."
      ]
    },
    {
      "cell_type": "markdown",
      "metadata": {
        "id": "TOlegATj1Jfp"
      },
      "source": [
        "Existen funciones para la conversión de valores:\n",
        "\n",
        "- Enteros: [`int(dato_para_conversion)`](https://docs.python.org/3/library/functions.html#int)\n",
        "- Coma flotante: [`float(dato_para_conversion)`](https://docs.python.org/3/library/functions.html#float)\n",
        "- String: [`str(dato_para_conversion)`](https://docs.python.org/3/library/functions.html#func-str)\n",
        "- Booleano: [`bool(dato_para_conversion)`](https://docs.python.org/3/library/functions.html#bool)"
      ]
    },
    {
      "cell_type": "code",
<<<<<<< HEAD
      "execution_count": null,
=======
      "source": [
        "ano_admision = input('Escribe el año de tu admision')"
      ],
>>>>>>> 31fe2811549db73f988557cf2bcce0aafd3f2bd0
      "metadata": {
        "id": "M2ueeH6l_NMe",
        "colab": {
          "base_uri": "https://localhost:8080/"
        },
        "outputId": "52a9eff1-1288-45da-f7d0-d2339dc4c7b9"
      },
<<<<<<< HEAD
      "outputs": [],
      "source": []
    },
    {
      "cell_type": "code",
      "execution_count": null,
=======
      "execution_count": 69,
      "outputs": [
        {
          "name": "stdout",
          "output_type": "stream",
          "text": [
            "Escribe el año de tu admision2024\n"
          ]
        }
      ]
    },
    {
      "cell_type": "code",
      "source": [
        "type(ano_admision)"
      ],
>>>>>>> 31fe2811549db73f988557cf2bcce0aafd3f2bd0
      "metadata": {
        "id": "xfWwuViK_NUn",
        "colab": {
          "base_uri": "https://localhost:8080/"
        },
        "outputId": "cf71924e-a743-4761-83ec-d097dce7c713"
      },
<<<<<<< HEAD
      "outputs": [],
      "source": []
    },
    {
      "cell_type": "code",
      "execution_count": null,
=======
      "execution_count": 70,
      "outputs": [
        {
          "output_type": "execute_result",
          "data": {
            "text/plain": [
              "str"
            ]
          },
          "metadata": {},
          "execution_count": 70
        }
      ]
    },
    {
      "cell_type": "code",
      "source": [
        "ano_salida = input('Escribe el año de tu salida')"
      ],
>>>>>>> 31fe2811549db73f988557cf2bcce0aafd3f2bd0
      "metadata": {
        "id": "uFCHDyew_NZm",
        "colab": {
          "base_uri": "https://localhost:8080/"
        },
        "outputId": "f67ebe7d-19d4-4715-ccd2-8509c4f15d94"
      },
<<<<<<< HEAD
      "outputs": [],
      "source": []
=======
      "execution_count": 71,
      "outputs": [
        {
          "name": "stdout",
          "output_type": "stream",
          "text": [
            "Escribe el año de tu salida2028\n"
          ]
        }
      ]
    },
    {
      "cell_type": "code",
      "source": [
        "type(ano_salida)"
      ],
      "metadata": {
        "colab": {
          "base_uri": "https://localhost:8080/"
        },
        "id": "yvIH3w9oq4De",
        "outputId": "1be2756c-8e5b-46c2-d886-4a41cfb5de4c"
      },
      "execution_count": 72,
      "outputs": [
        {
          "output_type": "execute_result",
          "data": {
            "text/plain": [
              "str"
            ]
          },
          "metadata": {},
          "execution_count": 72
        }
      ]
    },
    {
      "cell_type": "code",
      "source": [
        "ano_admision + ano_salida"
      ],
      "metadata": {
        "colab": {
          "base_uri": "https://localhost:8080/",
          "height": 35
        },
        "id": "5iTK3C31q9z6",
        "outputId": "8bb8aeed-7747-46d5-b936-0427154017f7"
      },
      "execution_count": 73,
      "outputs": [
        {
          "output_type": "execute_result",
          "data": {
            "text/plain": [
              "'20242028'"
            ],
            "application/vnd.google.colaboratory.intrinsic+json": {
              "type": "string"
            }
          },
          "metadata": {},
          "execution_count": 73
        }
      ]
    },
    {
      "cell_type": "code",
      "source": [
        "ano_admision = int(input('Escribe el año de tu admision'))"
      ],
      "metadata": {
        "colab": {
          "base_uri": "https://localhost:8080/"
        },
        "id": "_OYpmGCLrLjB",
        "outputId": "61f1c94c-3b42-42cc-fe80-b2458c553528"
      },
      "execution_count": 74,
      "outputs": [
        {
          "name": "stdout",
          "output_type": "stream",
          "text": [
            "Escribe el año de tu admision2024\n"
          ]
        }
      ]
    },
    {
      "cell_type": "code",
      "source": [
        "type(ano_admision)"
      ],
      "metadata": {
        "colab": {
          "base_uri": "https://localhost:8080/"
        },
        "id": "ru2qKxQnrQxO",
        "outputId": "a37aa50f-531d-412d-a4e0-b137c4f3c046"
      },
      "execution_count": 75,
      "outputs": [
        {
          "output_type": "execute_result",
          "data": {
            "text/plain": [
              "int"
            ]
          },
          "metadata": {},
          "execution_count": 75
        }
      ]
    },
    {
      "cell_type": "code",
      "source": [
        "ano_salida = int(input('Escribe el año de tu salida'))"
      ],
      "metadata": {
        "colab": {
          "base_uri": "https://localhost:8080/"
        },
        "id": "22BIa_IFrQoZ",
        "outputId": "02c89734-e5bd-46d9-c2fc-6ee3838b6a8e"
      },
      "execution_count": 76,
      "outputs": [
        {
          "name": "stdout",
          "output_type": "stream",
          "text": [
            "Escribe el año de tu salida2028\n"
          ]
        }
      ]
    },
    {
      "cell_type": "code",
      "source": [
        "type(ano_salida)"
      ],
      "metadata": {
        "colab": {
          "base_uri": "https://localhost:8080/"
        },
        "id": "WHtnKpB_rQcX",
        "outputId": "b0744468-2c97-4ce5-a03a-97bc4908712e"
      },
      "execution_count": 77,
      "outputs": [
        {
          "output_type": "execute_result",
          "data": {
            "text/plain": [
              "int"
            ]
          },
          "metadata": {},
          "execution_count": 77
        }
      ]
    },
    {
      "cell_type": "code",
      "source": [
        "nota_admision = float(input('Escribe tu nota de admision'))"
      ],
      "metadata": {
        "colab": {
          "base_uri": "https://localhost:8080/"
        },
        "id": "7hSzz_DKrYin",
        "outputId": "200e593f-db49-43c2-e240-124f8c95e209"
      },
      "execution_count": 78,
      "outputs": [
        {
          "name": "stdout",
          "output_type": "stream",
          "text": [
            "Escribe tu nota de admision8.2\n"
          ]
        }
      ]
    },
    {
      "cell_type": "code",
      "source": [
        "type(nota_admision)"
      ],
      "metadata": {
        "colab": {
          "base_uri": "https://localhost:8080/"
        },
        "id": "kpXRlg3trcYr",
        "outputId": "900696aa-eba6-4a34-9a17-6fb8c082dca5"
      },
      "execution_count": 79,
      "outputs": [
        {
          "output_type": "execute_result",
          "data": {
            "text/plain": [
              "float"
            ]
          },
          "metadata": {},
          "execution_count": 79
        }
      ]
>>>>>>> 31fe2811549db73f988557cf2bcce0aafd3f2bd0
    },
    {
      "cell_type": "markdown",
      "metadata": {
        "id": "yNI2-XTbB3aS"
      },
      "source": [
        "Trataremos de representar mejor ahora el resultado de la transformación que obtuvimos. Nosotros podemos formatear y presentar nuestro resultado mezclando strings con valores no textuales.\n",
        "\n",
        "Para ello utilizamos la estructura de formatación `f` con strings."
      ]
    },
    {
      "cell_type": "code",
<<<<<<< HEAD
      "execution_count": null,
=======
      "source": [
        "print(f'\\tEl año de admisión fue {ano_admision} \\n\\tLa nota de admisón fue {nota_admision}')"
      ],
>>>>>>> 31fe2811549db73f988557cf2bcce0aafd3f2bd0
      "metadata": {
        "id": "keJjA5N9_K5i",
        "colab": {
          "base_uri": "https://localhost:8080/"
        },
        "outputId": "0e1c9dbc-4783-4bb6-8324-9b5c38eb0b0f"
      },
<<<<<<< HEAD
      "outputs": [],
      "source": []
=======
      "execution_count": 81,
      "outputs": [
        {
          "output_type": "stream",
          "name": "stdout",
          "text": [
            "\tEl año de admisión fue 2024 \n",
            "\tLa nota de admisón fue 8.2\n"
          ]
        }
      ]
>>>>>>> 31fe2811549db73f988557cf2bcce0aafd3f2bd0
    },
    {
      "cell_type": "markdown",
      "metadata": {
        "id": "NwRaiHHHhhyl"
      },
      "source": [
        "# Estructuras condicionales"
      ]
    },
    {
      "cell_type": "code",
<<<<<<< HEAD
      "execution_count": null,
=======
      "source": [
        "# Nota de aprobacion entre 7 y 10 == nota de aprobacion >= 7\n",
        "# Nota de repobracion es menor a 7 == nota de reporbacion <= 7\n",
        "\"\"\"\n",
        "Si la nota es mayor o igual a 7 entonces el estudiante aprueba\n",
        "Si no entonces el estudiante reprueba\n",
        "\"\"\""
      ],
>>>>>>> 31fe2811549db73f988557cf2bcce0aafd3f2bd0
      "metadata": {
        "id": "pa4gLncu-mvU",
        "colab": {
          "base_uri": "https://localhost:8080/",
          "height": 35
        },
        "outputId": "9b2e7cb7-bef0-4f6e-b6ef-2ed177b76dd7"
      },
<<<<<<< HEAD
      "outputs": [],
      "source": []
    },
    {
      "cell_type": "code",
      "execution_count": null,
      "metadata": {
        "id": "_cWRmDiE-m4p"
      },
      "outputs": [],
      "source": []
=======
      "execution_count": 82,
      "outputs": [
        {
          "output_type": "execute_result",
          "data": {
            "text/plain": [
              "'\\nSi la nota es mayor o igual a 7 entonces el estudiante aprueba\\nSi no entonces el estudiante reprueba\\n'"
            ],
            "application/vnd.google.colaboratory.intrinsic+json": {
              "type": "string"
            }
          },
          "metadata": {},
          "execution_count": 82
        }
      ]
>>>>>>> 31fe2811549db73f988557cf2bcce0aafd3f2bd0
    },
    {
      "cell_type": "markdown",
      "metadata": {
        "id": "qXZqg9aYEhAh"
      },
      "source": [
        "## `IF` y `ELSE`\n",
        "\n",
        "Los comandos `if` y `else` son dos estructuras condicionales. El comando `if` ejecutará el bloque de comandos en caso de que la condición citada sea  **verdadera**. El comando `else` ejecutará el bloque de comandos en el caso de que la condicional de `if` sea **falsa**."
      ]
    },
    {
      "cell_type": "markdown",
      "metadata": {
        "id": "EIhlqHXd2Gil"
      },
      "source": [
        "El comando `if` es una palabra clave en Python que significa \"si\". Este se emplea para conformar la estructura condicional, que te permite verificar si una determinada condición es verdadera o falsa e, inmediatamente después, ejecute un bloque de código específico dependiendo del resultado de la verificación. La sintaxis para usar el comando `if` es:\n",
        "\n",
        "\n",
        "\n",
        "```\n",
        "if condicion:\n",
        "    # Realiza algo\n",
        "```\n",
        "\n"
      ]
    },
    {
      "cell_type": "code",
<<<<<<< HEAD
      "execution_count": null,
=======
      "source": [
        "if 2 < 7:\n",
        "  print('La condicion es verdadera.')"
      ],
>>>>>>> 31fe2811549db73f988557cf2bcce0aafd3f2bd0
      "metadata": {
        "id": "S2S6XAFz-czM",
        "colab": {
          "base_uri": "https://localhost:8080/"
        },
        "outputId": "85bd0fc5-6838-4de5-88fb-3322a6ee3516"
      },
<<<<<<< HEAD
      "outputs": [],
      "source": []
    },
    {
      "cell_type": "code",
      "execution_count": null,
=======
      "execution_count": 83,
      "outputs": [
        {
          "output_type": "stream",
          "name": "stdout",
          "text": [
            "La condicion es verdadera.\n"
          ]
        }
      ]
    },
    {
      "cell_type": "code",
      "source": [
        "if 2 > 7:\n",
        "  print('La condicion es verdadera.')\n",
        "print('Fin de la consulta')"
      ],
>>>>>>> 31fe2811549db73f988557cf2bcce0aafd3f2bd0
      "metadata": {
        "id": "_cWRmDiE-m4p",
        "colab": {
          "base_uri": "https://localhost:8080/"
        },
        "outputId": "f01509f6-6d69-463c-b97a-07e3e3d2eeab"
      },
<<<<<<< HEAD
      "outputs": [],
      "source": []
=======
      "execution_count": 85,
      "outputs": [
        {
          "output_type": "stream",
          "name": "stdout",
          "text": [
            "Fin de la consulta\n"
          ]
        }
      ]
>>>>>>> 31fe2811549db73f988557cf2bcce0aafd3f2bd0
    },
    {
      "cell_type": "markdown",
      "metadata": {
        "id": "27RW2v_sIKct"
      },
      "source": [
        "Ya el comando `else` en Python se usa en junción con la palabra clave `if` para formar una estructura condicional. la sintaxis para usar el `else` es:\n",
        "\n",
        "```\n",
        "if condicion:\n",
        "  # codigo en caso de que sea verdad\n",
        "else:\n",
        "  # codigo en caso de que sea falso\n",
        "```\n",
        "\n",
        "el comando `else` se ejecuta cuando la condición verificada por el `if` es evaluada como `False`."
      ]
    },
    {
      "cell_type": "code",
<<<<<<< HEAD
      "execution_count": null,
=======
      "source": [
        "if 2 > 7:\n",
        "  print('La condicion es verdadera.')\n",
        "else:\n",
        "    print('La condicion es falsa.')\n",
        "print('Fin de la consulta')"
      ],
>>>>>>> 31fe2811549db73f988557cf2bcce0aafd3f2bd0
      "metadata": {
        "id": "ZTfNJd_f-aOq",
        "colab": {
          "base_uri": "https://localhost:8080/"
        },
        "outputId": "2fecf2f1-f19d-4cf3-99ac-957872b6f857"
      },
<<<<<<< HEAD
      "outputs": [],
      "source": []
    },
    {
      "cell_type": "code",
      "execution_count": null,
      "metadata": {
        "id": "LPOb5MkV-btq"
      },
      "outputs": [],
      "source": []
=======
      "execution_count": 86,
      "outputs": [
        {
          "output_type": "stream",
          "name": "stdout",
          "text": [
            "La condicion es falsa.\n",
            "Fin de la consulta\n"
          ]
        }
      ]
>>>>>>> 31fe2811549db73f988557cf2bcce0aafd3f2bd0
    },
    {
      "cell_type": "markdown",
      "metadata": {
        "id": "BqORg85XX-Nl"
      },
      "source": [
        "---\n",
        "**Situación:**\n",
        "\n",
        "Recibiremos el promedio de la nota de los estudiantes y necesitamos de un algoritmo que ejecute el análisis y determine si el estudiante fue **Aprobado** o **Reprobado**, mostrando un mensaje del resultado. Para ser aprobado, el promedio necesita ser igual o superior a 7.0."
      ]
    },
    {
      "cell_type": "code",
<<<<<<< HEAD
      "execution_count": null,
=======
      "source": [
        "nota = float(input('Escribe tu nota: '))\n",
        "if nota >= 7:\n",
        "  print('Aprobado')\n",
        "else:\n",
        "  print('Reprobado')"
      ],
>>>>>>> 31fe2811549db73f988557cf2bcce0aafd3f2bd0
      "metadata": {
        "id": "UukCN4AQ-YYW",
        "colab": {
          "base_uri": "https://localhost:8080/"
        },
        "outputId": "4b85c072-7a27-4691-f274-962597c76ba0"
      },
<<<<<<< HEAD
      "outputs": [],
      "source": []
    },
    {
      "cell_type": "code",
      "execution_count": null,
      "metadata": {
        "id": "X0o8FW1H-YkA"
      },
      "outputs": [],
      "source": []
=======
      "execution_count": 88,
      "outputs": [
        {
          "output_type": "stream",
          "name": "stdout",
          "text": [
            "Escribe tu nota: 7\n",
            "Aprobado\n"
          ]
        }
      ]
>>>>>>> 31fe2811549db73f988557cf2bcce0aafd3f2bd0
    },
    {
      "cell_type": "markdown",
      "metadata": {
        "id": "bD9O17HB6LUo"
      },
      "source": [
        "Ahora, nuestra institución educativa estableció que las personas que tengan el promedio entre 5.0 y 7.0 pueden participar del curso de **Recuperación** durante las vacaciones para lograr aprobar.\n",
        "\n",
        "Entonces podemos apoyarnos en un conjunto de `if`s para poder estructurar esta nueva condición."
      ]
    },
    {
      "cell_type": "code",
<<<<<<< HEAD
      "execution_count": null,
=======
      "source": [
        "nota = float(input('Escribe tu nota: '))\n",
        "\n",
        "if nota >= 7:\n",
        "  print('Aprobado')\n",
        "if 7 > nota >= 5:\n",
        "  print('Recuperación')\n",
        "if nota < 5:\n",
        "    print('Reprobado')"
      ],
>>>>>>> 31fe2811549db73f988557cf2bcce0aafd3f2bd0
      "metadata": {
        "id": "iU-pjoJt-W89",
        "colab": {
          "base_uri": "https://localhost:8080/"
        },
        "outputId": "5b0d2606-ace0-4acc-c47e-a759ec1fe24e"
      },
<<<<<<< HEAD
      "outputs": [],
      "source": []
    },
    {
      "cell_type": "code",
      "execution_count": null,
      "metadata": {
        "id": "iU-pjoJt-W89"
      },
      "outputs": [],
      "source": []
=======
      "execution_count": 108,
      "outputs": [
        {
          "output_type": "stream",
          "name": "stdout",
          "text": [
            "Escribe tu nota: 7.1\n",
            "Aprobado\n"
          ]
        }
      ]
>>>>>>> 31fe2811549db73f988557cf2bcce0aafd3f2bd0
    },
    {
      "cell_type": "markdown",
      "metadata": {
        "id": "D5e2mByjvycO"
      },
      "source": [
        "Observa que en casos con 3 situaciones como este necesitamos definir bien nuestras condiciones. Pues, si realizamos una condición con `else` al final, este irá a considerar solamente la condición `if` inmediatamente anterior para generar la salida en caso de que el resultado de su operación lógica sea **falso** dando como resultado, dos o más ejecuciones.\n",
        "\n",
        "Por ejemplo:"
      ]
    },
    {
      "cell_type": "code",
<<<<<<< HEAD
      "execution_count": null,
=======
      "source": [
        "nota = float(input('Escribe tu nota: '))\n",
        "if nota >= 7:\n",
        "  print('Aprobado')\n",
        "if nota >= 5 and nota < 7:\n",
        "  print('Recuperación')\n",
        "else:\n",
        "    print('Reprobado')"
      ],
>>>>>>> 31fe2811549db73f988557cf2bcce0aafd3f2bd0
      "metadata": {
        "id": "C21JmOuK-VU8",
        "colab": {
          "base_uri": "https://localhost:8080/"
        },
        "outputId": "b12b4033-b1e7-45b9-da4f-1c40d0f24c49"
      },
<<<<<<< HEAD
      "outputs": [],
      "source": []
    },
    {
      "cell_type": "code",
      "execution_count": null,
      "metadata": {
        "id": "bHiVgnPs-Vlv"
      },
      "outputs": [],
      "source": []
=======
      "execution_count": 111,
      "outputs": [
        {
          "output_type": "stream",
          "name": "stdout",
          "text": [
            "Escribe tu nota: 9\n",
            "Aprobado\n",
            "Reprobado\n"
          ]
        }
      ]
>>>>>>> 31fe2811549db73f988557cf2bcce0aafd3f2bd0
    },
    {
      "cell_type": "markdown",
      "metadata": {
        "id": "04T5g-7h4zWx"
      },
      "source": [
        "## `ELIF`\n",
        "\n",
        "El comando `elif` es una palabra clave en Python que significa \"si no, si\" y lo podemos considerar una *contracción* entre `else` e `if`. Se utiliza en conjunto con la palabra clave `if` para formar una estructura condicional en cadena."
      ]
    },
    {
      "cell_type": "markdown",
      "metadata": {
        "id": "rNBHr5mm1Lm6"
      },
      "source": [
        "la sintaxis para utilizar el comando `elif` es:\n",
        "\n",
        "```\n",
        "if condicion1:\n",
        "    # Realiza algo\n",
        "elif condicion2:\n",
        "    # Realiza otra cosa\n",
        "elif condicion3:\n",
        "    # Realiza otra cosa\n",
        "else:\n",
        "    # Realiza algo diferente\n",
        "```\n",
        "\n",
        "El comando `elif` permite que puedas verificar varias condiciones en cadena, economizando espacio en tu código. Si la primera condición se evalúa como `False`, el interpretador de Python evaluará la próxima condición con el `elif`. Ello continuará hasta que una condición sea evaluada como `True` o hasta que el `else` sea alcazado. Si ninguna de las condiciones es evaluada como `True`, la ejecución del código del comando `else` será iniciada."
      ]
    },
    {
      "cell_type": "markdown",
      "metadata": {
        "id": "MVoykFbB4bd4"
      },
      "source": [
        "Vamos a emplear el mismo caso anterior:"
      ]
    },
    {
      "cell_type": "code",
<<<<<<< HEAD
      "execution_count": null,
=======
      "source": [
        "# Otra forma usando elif -> si no pero si\n",
        "nota = float(input('Escribe tu nota: '))\n",
        "if nota >= 7:\n",
        "  print('Aprobado')\n",
        "elif nota >= 5:\n",
        "  print('Recuperación')\n",
        "else:\n",
        "    print('Reprobado')"
      ],
>>>>>>> 31fe2811549db73f988557cf2bcce0aafd3f2bd0
      "metadata": {
        "id": "G9cJ5O9--W52",
        "colab": {
          "base_uri": "https://localhost:8080/"
        },
        "outputId": "1c005a07-a274-400d-e660-6c29ec3c8f90"
      },
<<<<<<< HEAD
      "outputs": [],
      "source": []
    },
    {
      "cell_type": "code",
      "execution_count": null,
      "metadata": {
        "id": "nuScbnHF-TfK"
      },
      "outputs": [],
      "source": []
=======
      "execution_count": 116,
      "outputs": [
        {
          "output_type": "stream",
          "name": "stdout",
          "text": [
            "Escribe tu nota: 7\n",
            "Aprobado\n"
          ]
        }
      ]
>>>>>>> 31fe2811549db73f988557cf2bcce0aafd3f2bd0
    },
    {
      "cell_type": "markdown",
      "metadata": {
        "id": "Tf1wSOem6iwZ"
      },
      "source": [
        "## Operadores\n",
        "\n",
        "Durante la construcción de comandos a veces necesitamos de una elaboración mayor de la expresión condicional, necesitando que algunos operadores lógicos se encuentren integrados."
      ]
    },
    {
      "cell_type": "markdown",
      "metadata": {
        "id": "GFIZnRWXGPWO"
      },
      "source": [
        "### `AND`, `OR`, `NOT`\n",
        "\n",
        "Los operadores lógicos `and`, `or` y `not` son usados para combinar expresiones lógicas en Python. Ellos son usados frecuentemente en conjunto con el comando `if` para crear estructuras condicionales más complejas.\n"
      ]
    },
    {
      "cell_type": "markdown",
      "metadata": {
        "id": "Z_dgAoHXJbzB"
      },
      "source": [
        "- `AND` es usado para verificar si dos condiciones son verdaderas. La expresión lógica¹ `x and y` se evalúa como `True` tan solo si **ambas condiciones `x` y `y` son verdaderas**, y como `False` en caso contrario.\n",
        "\n",
        "- `OR` es usado para verificar si al menos una de las condiciones es verdadera. La expresión lógica `x or y` se evalúa como `True` **si al menos una de las condiciones `x` o `y` es verdadera**, y como `False` si ambas condiciones son falsas.\n",
        "\n",
        "- `NOT` es usado para **negar una condición**. La expresión lógica `not x` es evaluada como `True` si la condición x es falsa, y como `False` si la condición x es verdadera.\n",
        "\n",
        "¹ Una expresión lógica es una declaración que puede ser evaluada como verdadera o falsa. Ella se compone por operandos lógicos² y por operadores lógicos³, que son usados ​​para combinar varias expresiones lógicas en una única expresión.\n",
        "\n",
        "² Los operandos lógicos son los elementos que son comparados o evaluados en una expresión lógica. Ellos son generalmente valores verdaderos o falsos, pero también pueden ser expresiones lógicas más complejas. En Python, los operandos lógicos son los valores `True` y `False`.\n",
        "\n",
        "³ Los operadores lógicos son ls símbolos o palabras clave que son usados ​​para combinar varias expresiones lógicas en una única expresión. En Python, los operadores lógicos son `and`, `or` y `not`, bien como las palabras clave `if`, `elif` e `else`."
      ]
    },
    {
      "cell_type": "markdown",
      "metadata": {
        "id": "2E5aUogf-49u"
      },
      "source": [
        "> Operadores lógicos más comunes\n",
        "\n",
        "|a|b|AND|OR|NOT|\n",
        "|-|-|-|-|-|\n",
        "|0|0|0|0|1\n",
        "|0|1|0|1|-\n",
        "|1|0|0|1|-\n",
        "|1|1|1|1|0\n"
      ]
    },
    {
      "cell_type": "code",
<<<<<<< HEAD
      "execution_count": null,
      "metadata": {
        "id": "DFKmpvmS-Pa6"
      },
      "outputs": [],
      "source": []
    },
    {
      "cell_type": "code",
      "execution_count": null,
=======
      "source": [
        "v = True\n",
        "f = False"
      ],
      "metadata": {
        "id": "DFKmpvmS-Pa6"
      },
      "execution_count": 117,
      "outputs": []
    },
    {
      "cell_type": "code",
      "source": [
        "if f and f:\n",
        "  print('Verdadero')\n",
        "else:\n",
        "  print('Falso')"
      ],
>>>>>>> 31fe2811549db73f988557cf2bcce0aafd3f2bd0
      "metadata": {
        "id": "W5BIrpOD-PeI",
        "colab": {
          "base_uri": "https://localhost:8080/"
        },
        "outputId": "f5792507-9dff-425c-83a7-02416a0c9c96"
      },
<<<<<<< HEAD
      "outputs": [],
      "source": []
    },
    {
      "cell_type": "code",
      "execution_count": null,
=======
      "execution_count": 118,
      "outputs": [
        {
          "output_type": "stream",
          "name": "stdout",
          "text": [
            "Falso\n"
          ]
        }
      ]
    },
    {
      "cell_type": "code",
      "source": [
        "if v or v:\n",
        "  print('Verdadero')\n",
        "else:\n",
        "  print('Falso')"
      ],
>>>>>>> 31fe2811549db73f988557cf2bcce0aafd3f2bd0
      "metadata": {
        "id": "fpDhYxq4-PiM",
        "colab": {
          "base_uri": "https://localhost:8080/"
        },
        "outputId": "90cc8b16-fb80-4647-c500-4f0b6d3cdd7d"
      },
<<<<<<< HEAD
      "outputs": [],
      "source": []
=======
      "execution_count": 120,
      "outputs": [
        {
          "output_type": "stream",
          "name": "stdout",
          "text": [
            "Verdadero\n"
          ]
        }
      ]
    },
    {
      "cell_type": "code",
      "source": [
        "if not f:\n",
        "  print('Verdadero')\n",
        "else:\n",
        "  print('Falso')"
      ],
      "metadata": {
        "colab": {
          "base_uri": "https://localhost:8080/"
        },
        "id": "m2DFtGIbIh_F",
        "outputId": "503fb8c3-1eb1-4598-f16a-7c15e43e3c20"
      },
      "execution_count": 121,
      "outputs": [
        {
          "output_type": "stream",
          "name": "stdout",
          "text": [
            "Verdadero\n"
          ]
        }
      ]
>>>>>>> 31fe2811549db73f988557cf2bcce0aafd3f2bd0
    },
    {
      "cell_type": "markdown",
      "metadata": {
        "id": "w7EXG1dhWtja"
      },
      "source": [
        "### `IN`\n",
        "\n",
        "Es usado para verificar si un elemento está presente en una lista, tupla u otra colección de conjunto. La expresión `x in y` se evalúa como `True` si el elemento `x` esta presente na variávelen la variable de conjunto `y`, y como `False` en caso contrario."
      ]
    },
    {
      "cell_type": "markdown",
      "metadata": {
        "id": "enJNp6JenQbq"
      },
      "source": [
        "Podemos verificarlo con variables de texto.\n",
        "\n",
        "---\n",
        "\n",
        "**Situación:**\n",
        "\n",
        "En la escuela nos entregaron una lista con nombres de estudiantes que fueron aprobados según el promedio del semestre, pero es necesario verificar si algunos nombres están en esa lista para confirmar que los datos estén correctos.\n",
        "\n",
        "La lista distribuida puede ser observada a continuación:\n",
        "\n",
        "```\n",
        "lista = 'Juan Pérez, María González, Pedro Rodríguez, Ana López, Carlos Martínez,\n",
        "    Laura Sánchez, José García, Elena Fernández, Luis Morales, Carmen Torres,\n",
        "    David Ruiz, Isabel Ramírez, Javier Díaz, Sara Herrera, Miguel Castro,\n",
        "    Patricia Ortega, Francisco Vargas, Marta Jiménez, Manuel Medina, Rosa Molina,\n",
        "    Alejandro Silva, Silvia Ruiz, Andrés Torres, Natalia Soto, Diego Guerrero,\n",
        "    Paula Ríos, Ricardo Navarro, Alicia Cordero, Carlos Vidal, Lorena Gómez'\n",
        "```\n",
        "\n",
        "Los nombres que necesitas verificar son los siguientes:\n",
        "\n",
        "```\n",
        "nombre_1 = 'Miguel Castro'\n",
        "nombre_2 = 'Marcelo Noguera'\n",
        "```"
      ]
    },
    {
      "cell_type": "code",
<<<<<<< HEAD
      "execution_count": null,
      "metadata": {
        "id": "gPPN9BCT-Mki"
      },
      "outputs": [],
      "source": []
    },
    {
      "cell_type": "code",
      "execution_count": null,
      "metadata": {
        "id": "GINbG3Fa-Mnb"
      },
      "outputs": [],
      "source": []
    },
    {
      "cell_type": "code",
      "execution_count": null,
=======
      "source": [
        "lista = 'Juan Pérez, María González, Pedro Rodríguez, Ana López, Carlos Martínez, Laura Sánchez, José García, Elena Fernández, Luis Morales, Carmen Torres,David Ruiz, Isabel Ramírez, Javier Díaz, Sara Herrera, Miguel Castro,Patricia Ortega, Francisco Vargas, Marta Jiménez, Manuel Medina, Rosa Molina,Alejandro Silva, Silvia Ruiz, Andrés Torres, Natalia Soto, Diego Guerrero,Paula Ríos, Ricardo Navarro, Alicia Cordero, Carlos Vidal, Lorena Gómez'"
      ],
      "metadata": {
        "id": "gPPN9BCT-Mki"
      },
      "execution_count": 122,
      "outputs": []
    },
    {
      "cell_type": "code",
      "source": [
        "nombre_1 = 'Miguel Castro'\n",
        "nombre_2 = 'Marcelo Noguera'"
      ],
      "metadata": {
        "id": "GINbG3Fa-Mnb"
      },
      "execution_count": 123,
      "outputs": []
    },
    {
      "cell_type": "code",
      "source": [
        "if nombre_1 in lista:\n",
        "  print(f'El nombre {nombre_1} está en la lista de los aprobados')\n",
        "else:\n",
        "  print(f'El nombre {nombre_1} no esta en la lista de aprobados')"
      ],
>>>>>>> 31fe2811549db73f988557cf2bcce0aafd3f2bd0
      "metadata": {
        "id": "hk-RhNRT-Mp7",
        "colab": {
          "base_uri": "https://localhost:8080/"
        },
        "outputId": "0fcefcfc-2496-4c07-d21e-ec0ede2bb5f0"
      },
<<<<<<< HEAD
      "outputs": [],
      "source": []
=======
      "execution_count": 128,
      "outputs": [
        {
          "output_type": "stream",
          "name": "stdout",
          "text": [
            "El nombre Miguel Castro está en la lista de los aprobados\n"
          ]
        }
      ]
    },
    {
      "cell_type": "code",
      "source": [
        "if nombre_2 in lista:\n",
        "  print(f'El nombre {nombre_2} está en la lista de los aprobados')\n",
        "else:\n",
        "  print(f'El nombre {nombre_2} no esta en la lista de aprobados')"
      ],
      "metadata": {
        "colab": {
          "base_uri": "https://localhost:8080/"
        },
        "id": "MbCXzetBJOce",
        "outputId": "f2f0ac7b-c576-4355-b330-d1e067273c3d"
      },
      "execution_count": 129,
      "outputs": [
        {
          "output_type": "stream",
          "name": "stdout",
          "text": [
            "El nombre Marcelo Noguera no esta en la lista de aprobados\n"
          ]
        }
      ]
>>>>>>> 31fe2811549db73f988557cf2bcce0aafd3f2bd0
    },
    {
      "cell_type": "markdown",
      "metadata": {
        "id": "aL1vJPewvwvz"
      },
      "source": [
        "# Estructuras de repetición"
      ]
    },
    {
      "cell_type": "markdown",
      "metadata": {
        "id": "VcPfCa8d-84t"
      },
      "source": [
        "Cuando tenemos que ejecutar un mismo bloque de comandos durante varias ocasiones no es nada práctico hacerlo a mano.\n",
        "\n",
        "**Situación**: Nos fue solicitado obtener e imprimir el promedio de 2 notas de **3 estudantes**:"
      ]
    },
    {
      "cell_type": "code",
<<<<<<< HEAD
      "execution_count": null,
      "metadata": {
        "id": "xcx21IGT9qA0"
      },
      "outputs": [],
      "source": []
    },
    {
      "cell_type": "code",
      "execution_count": null,
=======
      "source": [
        "nota_1 = float(input('Escribe la nota 1: '))\n",
        "nota_2 = float(input('Escribe la nota 2: '))\n",
        "promedio = (nota_1 + nota_2) / 2\n",
        "print(f'El promedio de las notas del estudiante es: {promedio}')\n",
        "\n",
        "nota_1 = float(input('Escribe la nota 1: '))\n",
        "nota_2 = float(input('Escribe la nota 2: '))\n",
        "promedio = (nota_1 + nota_2) / 2\n",
        "print(f'El promedio de las notas del estudiante 2 es: {promedio}')\n",
        "\n",
        "nota_1 = float(input('Escribe la nota 1: '))\n",
        "nota_2 = float(input('Escribe la nota 2: '))\n",
        "promedio = (nota_1 + nota_2) / 2\n",
        "print(f'El promedio de las notas del estudiante 3 es: {promedio}')"
      ],
>>>>>>> 31fe2811549db73f988557cf2bcce0aafd3f2bd0
      "metadata": {
        "id": "Wtbiy9Ay9rGJ"
      },
      "outputs": [],
      "source": []
    },
    {
<<<<<<< HEAD
      "cell_type": "code",
      "execution_count": null,
      "metadata": {
        "id": "Yfyz4anY9rIr"
      },
      "outputs": [],
      "source": []
    },
    {
=======
>>>>>>> 31fe2811549db73f988557cf2bcce0aafd3f2bd0
      "cell_type": "markdown",
      "metadata": {
        "id": "9puIuvUbFSFX"
      },
      "source": [
        "Ahora imaginemos una situación en que no son tan solo 3 estudiantes, sino 100 estudiantes. No sería nada interesante repetir el mismo código 100 veces, sino **ejecutar el mismo código 100 veces**.\n",
        "\n",
        "¡Esta estructura la logramos construir con lazos de repetición!"
      ]
    },
    {
      "cell_type": "markdown",
      "metadata": {
        "id": "uLO9-aE4-wx8"
      },
      "source": [
        "## `WHILE`"
      ]
    },
    {
      "cell_type": "markdown",
      "metadata": {
        "id": "rXZxDMiqHxm9"
      },
      "source": [
        "El lazo `while` es una estructura de control de repetición en Python que permite ejecutar un bloque de código repetidamente mientras que una determinada condición sea verdadera. Su estructura es:\n",
        "\n",
        "\n",
        "\n",
        "```\n",
        "while condicion:\n",
        "    # bloque de codigo\n",
        "```\n",
        "\n",
        "Vamos a construir un ejemplo con un contador de 1 hasta 10.\n"
      ]
    },
    {
      "cell_type": "code",
<<<<<<< HEAD
      "execution_count": null,
=======
      "source": [
        "contador = 1\n",
        "while contador <=10:\n",
        "  print(contador)\n",
        "  contador = contador + 1\n"
      ],
>>>>>>> 31fe2811549db73f988557cf2bcce0aafd3f2bd0
      "metadata": {
        "id": "Hd0ZSWxD9wCD",
        "colab": {
          "base_uri": "https://localhost:8080/"
        },
        "outputId": "a97f902e-bf4a-475c-bacf-76751be687d6"
      },
<<<<<<< HEAD
      "outputs": [],
      "source": []
    },
    {
      "cell_type": "code",
      "execution_count": null,
      "metadata": {
        "id": "miFHNqp29nOL"
      },
      "outputs": [],
      "source": []
=======
      "execution_count": 156,
      "outputs": [
        {
          "output_type": "stream",
          "name": "stdout",
          "text": [
            "1\n",
            "2\n",
            "3\n",
            "4\n",
            "5\n",
            "6\n",
            "7\n",
            "8\n",
            "9\n",
            "10\n"
          ]
        }
      ]
>>>>>>> 31fe2811549db73f988557cf2bcce0aafd3f2bd0
    },
    {
      "cell_type": "markdown",
      "metadata": {
        "id": "W4KZPBJuIrut"
      },
      "source": [
        "Ahora vamos a colectar las notas y promedios de cada alumno dentro del lazo `while`. Haremos un ejemplo con 3 promedios."
      ]
    },
    {
      "cell_type": "code",
<<<<<<< HEAD
      "execution_count": null,
=======
      "source": [
        "contador = 1\n",
        "while contador <= 3:\n",
        "  nota_1 = float(input('Escribe la nota 1: '))\n",
        "  nota_2 = float(input('Escribe la nota 2: '))\n",
        "  promedio = (nota_1 + nota_2) / 2\n",
        "  print(f'El promedio de las notas del estudiante {contador} es: {promedio}')\n",
        "  contador = contador + 1\n",
        "\n",
        "  estudiantes = estudiantes + 1"
      ],
>>>>>>> 31fe2811549db73f988557cf2bcce0aafd3f2bd0
      "metadata": {
        "id": "miFHNqp29nOL",
        "colab": {
          "base_uri": "https://localhost:8080/"
        },
        "outputId": "a33f35cc-7d90-46a9-b937-baa82ef7fc70"
      },
<<<<<<< HEAD
      "outputs": [],
      "source": []
    },
    {
      "cell_type": "code",
      "execution_count": null,
      "metadata": {
        "id": "P6E0_dW-9lZ9"
      },
      "outputs": [],
      "source": []
=======
      "execution_count": 191,
      "outputs": [
        {
          "output_type": "stream",
          "name": "stdout",
          "text": [
            "Escribe la nota 1: 6\n",
            "Escribe la nota 2: 7\n",
            "El promedio de las notas del estudiante 1 es: 6.5\n",
            "Escribe la nota 1: 8\n",
            "Escribe la nota 2: 9\n",
            "El promedio de las notas del estudiante 2 es: 8.5\n",
            "Escribe la nota 1: 4\n",
            "Escribe la nota 2: 6\n",
            "El promedio de las notas del estudiante 3 es: 5.0\n"
          ]
        }
      ]
>>>>>>> 31fe2811549db73f988557cf2bcce0aafd3f2bd0
    },
    {
      "cell_type": "markdown",
      "metadata": {
        "id": "WgAIaENMMfCP"
      },
      "source": [
        "## `FOR`"
      ]
    },
    {
      "cell_type": "markdown",
      "metadata": {
        "id": "HxrSZoRAMh-x"
      },
      "source": [
        "El lazo `for` es un tipo de estructura de control de flujo en Python que permite iterar sobre un conjunto de elementos. Su estructura es:\n",
        "\n",
        "\n",
        "\n",
        "```\n",
        "for elemento in conjunto:\n",
        "    # codigo a ser ejecutado para cada elemento\n",
        "```\n",
        "\n",
        "El lazo `for` itera sobre cada elemento del conjunto especificado y ejecuta el bloque de código dentro del lazo para cada elemento. Cuando el lazo llega al final del conjunto, este se interrumpe y el programa continúa la ejecución después del lazo.\n",
        "\n"
      ]
    },
    {
      "cell_type": "markdown",
      "metadata": {
        "id": "6VgjyoQtPHBM"
      },
      "source": [
        "El conjunto lo podemos generar con la función incorporada [`range()`](https://docs.python.org/3/library/functions.html#func-range). Se trata de una función capaz de generar una secuencia de números enteros. La estructura de esta función es:\n",
        "\n",
        "```\n",
        "range(inicio, fin, paso)\n",
        "```\n",
        "\n",
        "Según la documentación, `range()` genera una secuencia de números enteros a partir del valor del parámetro `inicio` hasta el valor del parámetro `fin`, de acuerdo con el valor del parámetro `paso`. Si `inicio` no es especificado, el valor por defecto es `0`. Si `paso` no es especificado, el valor por defecto es `1`.\n",
        "\n",
        "\n"
      ]
    },
    {
      "cell_type": "markdown",
      "metadata": {
        "id": "ryn0hfdlUwC8"
      },
      "source": [
        "Vamos a recrear el mismo contador `while` con el lazo `for`."
      ]
    },
    {
      "cell_type": "code",
<<<<<<< HEAD
      "execution_count": null,
=======
      "source": [
        "for n in range(1,11):\n",
        "  print(n)"
      ],
>>>>>>> 31fe2811549db73f988557cf2bcce0aafd3f2bd0
      "metadata": {
        "id": "I6b1T3wdfTTO",
        "outputId": "f6debede-52ae-4131-d002-85abba8953f2",
        "colab": {
          "base_uri": "https://localhost:8080/"
        }
      },
<<<<<<< HEAD
      "outputs": [],
      "source": []
    },
    {
      "cell_type": "code",
      "execution_count": null,
=======
      "execution_count": 193,
      "outputs": [
        {
          "output_type": "stream",
          "name": "stdout",
          "text": [
            "1\n",
            "2\n",
            "3\n",
            "4\n",
            "5\n",
            "6\n",
            "7\n",
            "8\n",
            "9\n",
            "10\n"
          ]
        }
      ]
    },
    {
      "cell_type": "code",
      "source": [
        "for n in range(3):\n",
        "  nota_1 = float(input('Escribe la nota 1: '))\n",
        "  nota_2 = float(input('Escribe la nota 2: '))\n",
        "  promedio = (nota_1 + nota_2) / 2\n",
        "  n = n + 1\n",
        "\n",
        "  print(f'El promedio de las notas del estudiante {n} es: {promedio}')\n"
      ],
>>>>>>> 31fe2811549db73f988557cf2bcce0aafd3f2bd0
      "metadata": {
        "id": "xcx21IGT9qA0",
        "colab": {
          "base_uri": "https://localhost:8080/"
        },
        "outputId": "91e58b0a-a91c-466b-f299-4a870ed68877"
      },
<<<<<<< HEAD
      "outputs": [],
      "source": []
=======
      "execution_count": 134,
      "outputs": [
        {
          "output_type": "stream",
          "name": "stdout",
          "text": [
            "Escribe la nota 1: 8\n",
            "Escribe la nota 2: 6.2\n",
            "El promedio de las notas del estudiante 1 es: 7.1\n",
            "Escribe la nota 1: 5\n",
            "Escribe la nota 2: 9\n",
            "El promedio de las notas del estudiante 2 es: 7.0\n",
            "Escribe la nota 1: 2\n",
            "Escribe la nota 2: 6\n",
            "El promedio de las notas del estudiante 3 es: 4.0\n"
          ]
        }
      ]
>>>>>>> 31fe2811549db73f988557cf2bcce0aafd3f2bd0
    },
    {
      "cell_type": "markdown",
      "metadata": {
        "id": "8noP8OJ0Vhux"
      },
      "source": [
        "# Estructuras de datos"
      ]
    },
    {
      "cell_type": "markdown",
      "metadata": {
        "id": "xpEUkefTu8fY"
      },
      "source": [
        "Un conjunto de elementos es una colección de items, que son almacenados juntos de manera organizada. Algunos ejemplos de conjuntos de elementos en Python son las listas, los strings y los diccionarios."
      ]
    },
    {
      "cell_type": "code",
      "source": [],
      "metadata": {
        "id": "Ac8GupzgLPRa"
      },
      "execution_count": null,
      "outputs": []
    },
    {
      "cell_type": "markdown",
      "metadata": {
        "id": "THSg4KYLwxIb"
      },
      "source": [
        "## Listas"
      ]
    },
    {
      "cell_type": "markdown",
      "metadata": {
        "id": "dzpsiqrOyJcK"
      },
      "source": [
        "Las listas pueden almacenar una colección de items en orden. Ellas son delimitadas por corchetes `[]` y sus elementos son separados por comas.\n",
        "\n",
        "Estas pueden almacenar cualquier tipo de items, incluyendo números, strings, objetos, otras listas, entre otros. También nos permiten almacenar items de tipos de datos diferentes juntos en una única lista."
      ]
    },
    {
      "cell_type": "code",
      "execution_count": null,
      "metadata": {
        "colab": {
          "base_uri": "https://localhost:8080/"
        },
<<<<<<< HEAD
        "id": "DO3TBj7nAYeG",
        "outputId": "fbee2eb5-265e-4b5b-badf-a0dd9331074b"
      },
=======
        "outputId": "5b8732ee-bcb5-4ccc-8225-3ae2fb79f434"
      },
      "execution_count": 194,
>>>>>>> 31fe2811549db73f988557cf2bcce0aafd3f2bd0
      "outputs": [
        {
          "data": {
            "text/plain": [
              "['Penélope Camacho', 9.5, 9.0, 9.7, True]"
            ]
          },
          "execution_count": 62,
          "metadata": {},
<<<<<<< HEAD
          "output_type": "execute_result"
=======
          "execution_count": 194
>>>>>>> 31fe2811549db73f988557cf2bcce0aafd3f2bd0
        }
      ],
      "source": [
        "lista = ['Penélope Camacho',9.5,9.0,9.7,True]\n",
        "lista"
      ]
    },
    {
      "cell_type": "code",
<<<<<<< HEAD
      "execution_count": null,
=======
      "source": [
        "type(lista)"
      ],
>>>>>>> 31fe2811549db73f988557cf2bcce0aafd3f2bd0
      "metadata": {
        "id": "DO2ubP9N9D_2",
        "colab": {
          "base_uri": "https://localhost:8080/"
        },
        "outputId": "a2aee5f5-7e42-4302-daab-f0efc4d499d6"
      },
<<<<<<< HEAD
      "outputs": [],
      "source": []
=======
      "execution_count": 195,
      "outputs": [
        {
          "output_type": "execute_result",
          "data": {
            "text/plain": [
              "list"
            ]
          },
          "metadata": {},
          "execution_count": 195
        }
      ]
>>>>>>> 31fe2811549db73f988557cf2bcce0aafd3f2bd0
    },
    {
      "cell_type": "markdown",
      "metadata": {
        "id": "qUz3sJNl6LgK"
      },
      "source": [
        "Las listas son organizadas en Python porque **cada elemento de la lista tiene un índice que indica su posición al interior de la lista**. Los índices comienzan en 0 van hasta el tamaño de la lista menos 1."
      ]
    },
    {
      "cell_type": "markdown",
      "metadata": {
        "id": "rLf-Qg526hFD"
      },
      "source": [
        "Tenemos entonces 5 elementos con índices que varían de 0 a 4, ordenadamente:\n",
        "\n",
        "```\n",
        "#             [0]           [1]   [2]   [3]    [4]\n",
        "lista = ['Penélope Camacho', 9.5 , 9.0 , 9.7 , True]\n",
        "```\n",
        "\n",
        "En Python tenemos también los índices **negativos** que se inician en el último elemento con el valor de `-1` y avanzan en el universo de los negativos hasta llegar al 1° elemento:\n",
        "\n",
        "```\n",
        "#             [-5]         [-4]  [-3]  [-2]   [-1]\n",
        "lista = ['Penélope Camacho', 9.5 , 9.0 , 9.7 , True]\n",
        "```\n",
        "\n",
        "Logramos seleccionar separadamente cada elemento a través de sus respectivos índices. Colocando el nombre de la lista y en seguida el índice que será seleccionado."
      ]
    },
    {
      "cell_type": "code",
<<<<<<< HEAD
      "execution_count": null,
=======
      "source": [
        "type(lista[0])"
      ],
>>>>>>> 31fe2811549db73f988557cf2bcce0aafd3f2bd0
      "metadata": {
        "id": "4hco1Zqy88Kw",
        "colab": {
          "base_uri": "https://localhost:8080/"
        },
        "outputId": "fd743b91-6a35-47fc-dc99-dd16083fc815"
      },
<<<<<<< HEAD
      "outputs": [],
      "source": []
    },
    {
      "cell_type": "code",
      "execution_count": null,
=======
      "execution_count": 197,
      "outputs": [
        {
          "output_type": "execute_result",
          "data": {
            "text/plain": [
              "str"
            ]
          },
          "metadata": {},
          "execution_count": 197
        }
      ]
    },
    {
      "cell_type": "code",
      "source": [
        "type(lista[1])"
      ],
>>>>>>> 31fe2811549db73f988557cf2bcce0aafd3f2bd0
      "metadata": {
        "id": "M8lH0I2288Ph",
        "colab": {
          "base_uri": "https://localhost:8080/"
        },
        "outputId": "edd7e0e5-1a21-4871-98de-2b4f1db238fa"
      },
<<<<<<< HEAD
      "outputs": [],
      "source": []
=======
      "execution_count": 198,
      "outputs": [
        {
          "output_type": "execute_result",
          "data": {
            "text/plain": [
              "float"
            ]
          },
          "metadata": {},
          "execution_count": 198
        }
      ]
    },
    {
      "cell_type": "code",
      "source": [
        "type(lista[-1])"
      ],
      "metadata": {
        "id": "f6Lt0BwVlXh-",
        "outputId": "9f769efa-f7b8-4357-93df-98f2d6f19e3a",
        "colab": {
          "base_uri": "https://localhost:8080/"
        }
      },
      "execution_count": 199,
      "outputs": [
        {
          "output_type": "execute_result",
          "data": {
            "text/plain": [
              "bool"
            ]
          },
          "metadata": {},
          "execution_count": 199
        }
      ]
>>>>>>> 31fe2811549db73f988557cf2bcce0aafd3f2bd0
    },
    {
      "cell_type": "markdown",
      "metadata": {
        "id": "6TaE1ijmBTCd"
      },
      "source": [
        "Una forma más dinámica de trabajar item a item en una lista es utilizando un lazo `for` para leer un elemento a la vez."
      ]
    },
    {
      "cell_type": "code",
<<<<<<< HEAD
      "execution_count": null,
=======
      "source": [
        "for elemento in lista:\n",
        "  print(elemento)"
      ],
>>>>>>> 31fe2811549db73f988557cf2bcce0aafd3f2bd0
      "metadata": {
        "id": "rBx4Yu1786Sy",
        "colab": {
          "base_uri": "https://localhost:8080/"
        },
        "outputId": "f0071a7d-a223-43aa-d48f-8fc3f1dc242d"
      },
<<<<<<< HEAD
      "outputs": [],
      "source": []
=======
      "execution_count": 203,
      "outputs": [
        {
          "output_type": "stream",
          "name": "stdout",
          "text": [
            "Penélope Camacho\n",
            "9.5\n",
            "9.0\n",
            "9.7\n",
            "True\n"
          ]
        }
      ]
>>>>>>> 31fe2811549db73f988557cf2bcce0aafd3f2bd0
    },
    {
      "cell_type": "markdown",
      "metadata": {
        "id": "Dh1_HnIVvucY"
      },
      "source": [
        "**Situación**: La nota `9.0` de Penélope necesita ser ajustada pues ganó 1 punto en su última nota por participación en clase. Entonces es necesario realizar un cambio en el índice `2` de `9.0` a `10.0`."
      ]
    },
    {
      "cell_type": "code",
<<<<<<< HEAD
      "execution_count": null,
=======
      "source": [
        "lista[2] = 10.0\n",
        "lista"
      ],
>>>>>>> 31fe2811549db73f988557cf2bcce0aafd3f2bd0
      "metadata": {
        "id": "bVPoZg668z3T",
        "colab": {
          "base_uri": "https://localhost:8080/"
        },
        "outputId": "0f9d6371-cf4b-4e02-8f81-9482ca3428a8"
      },
<<<<<<< HEAD
      "outputs": [],
      "source": []
    },
    {
      "cell_type": "code",
      "execution_count": null,
      "metadata": {
        "id": "Jo_PBQ0g8z7D"
      },
      "outputs": [],
      "source": []
=======
      "execution_count": 205,
      "outputs": [
        {
          "output_type": "execute_result",
          "data": {
            "text/plain": [
              "['Penélope Camacho', 9.5, 10.0, 9.7, True]"
            ]
          },
          "metadata": {},
          "execution_count": 205
        }
      ]
>>>>>>> 31fe2811549db73f988557cf2bcce0aafd3f2bd0
    },
    {
      "cell_type": "markdown",
      "metadata": {
        "id": "53XduzXkycAf"
      },
      "source": [
        "También podemos calcular el promedio del estudiante a partir de los datos que tenemos."
      ]
    },
    {
      "cell_type": "code",
<<<<<<< HEAD
      "execution_count": null,
=======
      "source": [
        "promedio = (lista[1] + lista[2] + lista[3]) / 3\n",
        "promedio"
      ],
>>>>>>> 31fe2811549db73f988557cf2bcce0aafd3f2bd0
      "metadata": {
        "id": "Jo_PBQ0g8z7D",
        "colab": {
          "base_uri": "https://localhost:8080/"
        },
        "outputId": "10d789e6-b43f-4bc5-d268-e52e51ad8d03"
      },
<<<<<<< HEAD
      "outputs": [],
      "source": []
=======
      "execution_count": 206,
      "outputs": [
        {
          "output_type": "execute_result",
          "data": {
            "text/plain": [
              "9.733333333333333"
            ]
          },
          "metadata": {},
          "execution_count": 206
        }
      ]
>>>>>>> 31fe2811549db73f988557cf2bcce0aafd3f2bd0
    },
    {
      "cell_type": "markdown",
      "metadata": {
        "id": "d-iYr10-y4qw"
      },
      "source": [
        "## Manipulación de listas\n",
        "\n",
        "Las listas son muy útiles en Python porque nos permiten almacenar y acceder a una colección de items de manera organizada y rápida. Estas también ofrecen muchos métodos útiles para manipular los itens almacenados, como adicionar, remover, clasificar y buscar elementos."
      ]
    },
    {
      "cell_type": "markdown",
      "metadata": {
        "id": "ZLqx9A97XVB_"
      },
      "source": [
        "#### Cantidad de elementos\n",
        "\n",
        "Usamos la función [`len()`](https://docs.python.org/3/library/functions.html#len) para descubrir la cantidad de elementos de un conjunto."
      ]
    },
    {
      "cell_type": "code",
<<<<<<< HEAD
      "execution_count": null,
=======
      "source": [
        "len(lista)"
      ],
>>>>>>> 31fe2811549db73f988557cf2bcce0aafd3f2bd0
      "metadata": {
        "id": "6q1Tmm7P8wQf",
        "colab": {
          "base_uri": "https://localhost:8080/"
        },
        "outputId": "0750778b-5cbb-4da6-fe97-3348bb052c18"
      },
<<<<<<< HEAD
      "outputs": [],
      "source": []
=======
      "execution_count": 209,
      "outputs": [
        {
          "output_type": "execute_result",
          "data": {
            "text/plain": [
              "5"
            ]
          },
          "metadata": {},
          "execution_count": 209
        }
      ]
>>>>>>> 31fe2811549db73f988557cf2bcce0aafd3f2bd0
    },
    {
      "cell_type": "markdown",
      "metadata": {
        "id": "Z5tpstlHJss3"
      },
      "source": [
        "#### Partición\n",
        "\n",
        "La partición de listas por indexación en Python es una técnica muy útil para seleccionar un subconjunto de elementos de una lista. Esta se realiza usando la sintaxis `lista[inicio:fin]`, donde `inicio` es el índice del primer elemento que será incluído en la partición `fin` es el índice del primer elemento que será excluído de la partición."
      ]
    },
    {
      "cell_type": "code",
<<<<<<< HEAD
      "execution_count": null,
=======
      "source": [
        "lista[0:2]"
      ],
>>>>>>> 31fe2811549db73f988557cf2bcce0aafd3f2bd0
      "metadata": {
        "id": "NctvJTTU8uV9",
        "colab": {
          "base_uri": "https://localhost:8080/"
        },
        "outputId": "75bbd948-733f-4f5f-bf03-f159235fa353"
      },
<<<<<<< HEAD
      "outputs": [],
      "source": []
    },
    {
      "cell_type": "code",
      "execution_count": null,
=======
      "execution_count": 210,
      "outputs": [
        {
          "output_type": "execute_result",
          "data": {
            "text/plain": [
              "['Penélope Camacho', 9.5]"
            ]
          },
          "metadata": {},
          "execution_count": 210
        }
      ]
    },
    {
      "cell_type": "code",
      "source": [
        "lista[:3]"
      ],
>>>>>>> 31fe2811549db73f988557cf2bcce0aafd3f2bd0
      "metadata": {
        "id": "zqHMY5hIng8p",
        "outputId": "b0b24d1b-119e-44ee-e55e-af8a1c453ebb",
        "colab": {
          "base_uri": "https://localhost:8080/"
        }
      },
<<<<<<< HEAD
      "outputs": [],
      "source": []
=======
      "execution_count": 211,
      "outputs": [
        {
          "output_type": "execute_result",
          "data": {
            "text/plain": [
              "['Penélope Camacho', 9.5, 10.0]"
            ]
          },
          "metadata": {},
          "execution_count": 211
        }
      ]
    },
    {
      "cell_type": "code",
      "source": [
        "lista[3:]"
      ],
      "metadata": {
        "id": "n6BPlqhInlM2",
        "outputId": "409d2333-9039-4d1d-fe1b-786fc343bc65",
        "colab": {
          "base_uri": "https://localhost:8080/"
        }
      },
      "execution_count": 212,
      "outputs": [
        {
          "output_type": "execute_result",
          "data": {
            "text/plain": [
              "[9.7, True]"
            ]
          },
          "metadata": {},
          "execution_count": 212
        }
      ]
    },
    {
      "cell_type": "code",
      "source": [
        "lista[:]"
      ],
      "metadata": {
        "id": "EvVl__ddnoHb",
        "outputId": "164df0c2-a664-4500-9234-d66e08badbe4",
        "colab": {
          "base_uri": "https://localhost:8080/"
        }
      },
      "execution_count": 213,
      "outputs": [
        {
          "output_type": "execute_result",
          "data": {
            "text/plain": [
              "['Penélope Camacho', 9.5, 10.0, 9.7, True]"
            ]
          },
          "metadata": {},
          "execution_count": 213
        }
      ]
>>>>>>> 31fe2811549db73f988557cf2bcce0aafd3f2bd0
    },
    {
      "cell_type": "markdown",
      "metadata": {
        "id": "O0RRyabkRzZC"
      },
      "source": [
        "#### [`append()`](https://docs.python.org/3/tutorial/datastructures.html#:~:text=of%20list%20objects%3A-,list.append(x),-Add%20an%20item)\n",
        "\n",
        "Añade un elemento al final de la lista."
      ]
    },
    {
      "cell_type": "code",
<<<<<<< HEAD
      "execution_count": null,
=======
      "source": [
        "lista.append(promedio)\n",
        "lista"
      ],
>>>>>>> 31fe2811549db73f988557cf2bcce0aafd3f2bd0
      "metadata": {
        "id": "_Q0oODwa8spC",
        "colab": {
          "base_uri": "https://localhost:8080/"
        },
        "outputId": "4f6474b2-3620-4fb6-9353-ee5bf1b0f502"
      },
<<<<<<< HEAD
      "outputs": [],
      "source": []
=======
      "execution_count": 214,
      "outputs": [
        {
          "output_type": "execute_result",
          "data": {
            "text/plain": [
              "['Penélope Camacho', 9.5, 10.0, 9.7, True, 9.733333333333333]"
            ]
          },
          "metadata": {},
          "execution_count": 214
        }
      ]
>>>>>>> 31fe2811549db73f988557cf2bcce0aafd3f2bd0
    },
    {
      "cell_type": "code",
      "execution_count": null,
      "metadata": {
        "id": "RM894r2M8sse"
      },
      "outputs": [],
      "source": []
    },
    {
      "cell_type": "markdown",
      "metadata": {
        "id": "uQV91XMsUOJD"
      },
      "source": [
        "#### [`extend()`](https://docs.python.org/3/tutorial/datastructures.html#:~:text=list.extend(iterable))\n",
        "\n",
        "Añade varios elementos al final de la lista.\n",
        "\n",
        "Añadiremos las notas `[10.0,8.0,9.0]` En la lista de Penélope Camacho."
      ]
    },
    {
      "cell_type": "code",
<<<<<<< HEAD
      "execution_count": null,
=======
      "source": [
        "lista.extend([10.0,8.0,9.0])\n",
        "lista"
      ],
>>>>>>> 31fe2811549db73f988557cf2bcce0aafd3f2bd0
      "metadata": {
        "id": "6Zk2MpMw8rQc",
        "colab": {
          "base_uri": "https://localhost:8080/"
        },
        "outputId": "9a649d9c-38f6-42fe-b376-7a1aef8d613c"
      },
<<<<<<< HEAD
      "outputs": [],
      "source": []
    },
    {
      "cell_type": "code",
      "execution_count": null,
      "metadata": {
        "id": "NnoKkoWb8rTQ"
      },
      "outputs": [],
      "source": []
=======
      "execution_count": 215,
      "outputs": [
        {
          "output_type": "execute_result",
          "data": {
            "text/plain": [
              "['Penélope Camacho', 9.5, 10.0, 9.7, True, 9.733333333333333, 10.0, 8.0, 9.0]"
            ]
          },
          "metadata": {},
          "execution_count": 215
        }
      ]
>>>>>>> 31fe2811549db73f988557cf2bcce0aafd3f2bd0
    },
    {
      "cell_type": "markdown",
      "metadata": {
        "id": "IVJvkTwNUk6M"
      },
      "source": [
        "*A continuación te mostraremos lo que no puede realizarse con* `append`."
      ]
    },
    {
      "cell_type": "code",
<<<<<<< HEAD
      "execution_count": null,
=======
      "source": [
        "lista.append([10.0,8.0,9.0])\n",
        "lista"
      ],
>>>>>>> 31fe2811549db73f988557cf2bcce0aafd3f2bd0
      "metadata": {
        "id": "NnoKkoWb8rTQ",
        "colab": {
          "base_uri": "https://localhost:8080/"
        },
        "outputId": "6430290d-a544-46f3-fe47-d8a7b5d0ae82"
      },
<<<<<<< HEAD
      "outputs": [],
      "source": []
    },
    {
      "cell_type": "code",
      "execution_count": null,
      "metadata": {
        "id": "tsKK5Ne58pvN"
      },
      "outputs": [],
      "source": []
=======
      "execution_count": 216,
      "outputs": [
        {
          "output_type": "execute_result",
          "data": {
            "text/plain": [
              "['Penélope Camacho',\n",
              " 9.5,\n",
              " 10.0,\n",
              " 9.7,\n",
              " True,\n",
              " 9.733333333333333,\n",
              " 10.0,\n",
              " 8.0,\n",
              " 9.0,\n",
              " [10.0, 8.0, 9.0]]"
            ]
          },
          "metadata": {},
          "execution_count": 216
        }
      ]
>>>>>>> 31fe2811549db73f988557cf2bcce0aafd3f2bd0
    },
    {
      "cell_type": "markdown",
      "metadata": {
        "id": "dPGM5gpyUX1z"
      },
      "source": [
        "#### [`remove()`](https://docs.python.org/3/tutorial/datastructures.html#:~:text=append(x).-,list.remove(x),-Remove%20the%20first)\n",
        "\n",
        "Remueve un elemento específico de la lista."
      ]
    },
    {
      "cell_type": "code",
<<<<<<< HEAD
      "execution_count": null,
=======
      "source": [
        "lista.remove([10.0, 8.0, 9.0])\n",
        "lista"
      ],
>>>>>>> 31fe2811549db73f988557cf2bcce0aafd3f2bd0
      "metadata": {
        "id": "mmboODPc8nd5",
        "colab": {
          "base_uri": "https://localhost:8080/"
        },
        "outputId": "9cfb1b99-d44d-437a-aec4-b70454572432"
      },
<<<<<<< HEAD
      "outputs": [],
      "source": []
    },
    {
      "cell_type": "code",
      "execution_count": null,
      "metadata": {
        "id": "T_w6vVgV8nh_"
      },
      "outputs": [],
      "source": []
=======
      "execution_count": 221,
      "outputs": [
        {
          "output_type": "execute_result",
          "data": {
            "text/plain": [
              "['Penélope Camacho', 9.5, 10.0, 9.7, True, 9.733333333333333, 10.0, 8.0, 9]"
            ]
          },
          "metadata": {},
          "execution_count": 221
        }
      ]
>>>>>>> 31fe2811549db73f988557cf2bcce0aafd3f2bd0
    },
    {
      "cell_type": "markdown",
      "metadata": {
        "id": "Rc22Vc08YDZ2"
      },
      "source": [
        "## Diccionario"
      ]
    },
    {
      "cell_type": "markdown",
      "metadata": {
        "id": "PJ-cCKPjeWxL"
      },
      "source": [
        "Los diccionarios son un tipo de estructura de datos que almacenan pares de *llave-valor*. Estos son delimitados por llaves `{}` y los pares *llave-valor* son separados por comas.\n",
        "\n",
        "```\n",
        "diccionario = {llave: valor}\n",
        "```\n",
        "\n",
        "La **llave** es un elemento único que identifica a un valor en el diccionario, mientras que el **valor** es el item que será almacenado para la llave. Las llaves y sus respectivos valores se pueden emplear para **cualquier tipo de dato**.\n",
        "\n",
        "Los diccionarios son útiles para almacenar y acceder a los datos de manera organizada y rápida. Se trata de un tipo de conjunto de elementos en Python, pues almacenan una colección de items."
      ]
    },
    {
      "cell_type": "code",
<<<<<<< HEAD
      "execution_count": null,
=======
      "source": [
        "diccionario = {'llave_1':1,\n",
        "               'llave_2':2,}\n",
        "\n",
        "diccionario"
      ],
>>>>>>> 31fe2811549db73f988557cf2bcce0aafd3f2bd0
      "metadata": {
        "id": "NDHhzooE8ld5",
        "colab": {
          "base_uri": "https://localhost:8080/"
        },
        "outputId": "6da5e584-42f8-4923-bae6-2d67eca63cb1"
      },
<<<<<<< HEAD
      "outputs": [],
      "source": []
    },
    {
      "cell_type": "code",
      "execution_count": null,
=======
      "execution_count": 224,
      "outputs": [
        {
          "output_type": "execute_result",
          "data": {
            "text/plain": [
              "{'llave_1': 1, 'llave_2': 2}"
            ]
          },
          "metadata": {},
          "execution_count": 224
        }
      ]
    },
    {
      "cell_type": "code",
      "source": [
        "type(diccionario)"
      ],
>>>>>>> 31fe2811549db73f988557cf2bcce0aafd3f2bd0
      "metadata": {
        "id": "AVOzqzy-8lhh",
        "colab": {
          "base_uri": "https://localhost:8080/"
        },
        "outputId": "7fd2fdfe-2011-46b6-f94e-735120bee2f0"
      },
<<<<<<< HEAD
      "outputs": [],
      "source": []
=======
      "execution_count": 225,
      "outputs": [
        {
          "output_type": "execute_result",
          "data": {
            "text/plain": [
              "dict"
            ]
          },
          "metadata": {},
          "execution_count": 225
        }
      ]
>>>>>>> 31fe2811549db73f988557cf2bcce0aafd3f2bd0
    },
    {
      "cell_type": "markdown",
      "metadata": {
        "id": "_JbQ3KMKfkXU"
      },
      "source": [
        "---\n",
        "**Situación:**\n",
        "\n",
        "Vamos a crear un conjunto de datos con las informaciones de matrícula de un estudiante. Los datos son los siguientes:\n",
        "\n",
        "- matrícula: 2000168933\n",
        "- día de registro: 25\n",
        "- mes de registro: 10\n",
        "- grupo: 2E"
      ]
    },
    {
      "cell_type": "code",
<<<<<<< HEAD
      "execution_count": null,
=======
      "source": [
        "estudiante = {\n",
        "    'matricula':2000168933,\n",
        "    'dia_registro':25,\n",
        "    'mes_registro':10,\n",
        "    'grupo':'2E'\n",
        "}\n",
        "estudiante"
      ],
>>>>>>> 31fe2811549db73f988557cf2bcce0aafd3f2bd0
      "metadata": {
        "id": "0lfOu_c38jED",
        "colab": {
          "base_uri": "https://localhost:8080/"
        },
        "outputId": "3b0adaf7-036f-449b-bd7e-0bba54524483"
      },
<<<<<<< HEAD
      "outputs": [],
      "source": []
    },
    {
      "cell_type": "code",
      "execution_count": null,
=======
      "execution_count": 227,
      "outputs": [
        {
          "output_type": "execute_result",
          "data": {
            "text/plain": [
              "{'matricula': 2000168933,\n",
              " 'dia_registro': 25,\n",
              " 'mes_registro': 10,\n",
              " 'grupo': '2E'}"
            ]
          },
          "metadata": {},
          "execution_count": 227
        }
      ]
    },
    {
      "cell_type": "code",
      "source": [
        "estudiante['matricula']"
      ],
>>>>>>> 31fe2811549db73f988557cf2bcce0aafd3f2bd0
      "metadata": {
        "id": "XIuqpTTy8jHV",
        "colab": {
          "base_uri": "https://localhost:8080/"
        },
        "outputId": "673bf4cc-8b3a-470c-a62c-c2ca26c1c9d1"
      },
<<<<<<< HEAD
      "outputs": [],
      "source": []
=======
      "execution_count": 228,
      "outputs": [
        {
          "output_type": "execute_result",
          "data": {
            "text/plain": [
              "2000168933"
            ]
          },
          "metadata": {},
          "execution_count": 228
        }
      ]
    },
    {
      "cell_type": "code",
      "source": [
        "estudiante['grupo']"
      ],
      "metadata": {
        "id": "tf1U7T97sqC4",
        "outputId": "7fb7c255-71a4-4d42-e4ef-d789e67fab56",
        "colab": {
          "base_uri": "https://localhost:8080/",
          "height": 35
        }
      },
      "execution_count": 229,
      "outputs": [
        {
          "output_type": "execute_result",
          "data": {
            "text/plain": [
              "'2E'"
            ],
            "application/vnd.google.colaboratory.intrinsic+json": {
              "type": "string"
            }
          },
          "metadata": {},
          "execution_count": 229
        }
      ]
>>>>>>> 31fe2811549db73f988557cf2bcce0aafd3f2bd0
    },
    {
      "cell_type": "markdown",
      "metadata": {
        "id": "8ex5pt2ykDd2"
      },
      "source": [
        "Es posible sustituir los valores dentro de una llave. Por ejemplo, recibimos la información de que el grupo del estudiante que registramos cambio a `'2G'` y ahora necesitamos cambiar el valor de la llave `'grupo'`."
      ]
    },
    {
      "cell_type": "code",
<<<<<<< HEAD
      "execution_count": null,
=======
      "source": [
        "estudiante['grupo'] = '2G'\n",
        "\n",
        "estudiante"
      ],
>>>>>>> 31fe2811549db73f988557cf2bcce0aafd3f2bd0
      "metadata": {
        "id": "kQGlp36b8fyP",
        "colab": {
          "base_uri": "https://localhost:8080/"
        },
        "outputId": "c1e63418-ef4b-45ae-f533-4d4dd4a5778f"
      },
<<<<<<< HEAD
      "outputs": [],
      "source": []
    },
    {
      "cell_type": "code",
      "execution_count": null,
      "metadata": {
        "id": "DnfH_qHi8f17"
      },
      "outputs": [],
      "source": []
=======
      "execution_count": 230,
      "outputs": [
        {
          "output_type": "execute_result",
          "data": {
            "text/plain": [
              "{'matricula': 2000168933,\n",
              " 'dia_registro': 25,\n",
              " 'mes_registro': 10,\n",
              " 'grupo': '2G'}"
            ]
          },
          "metadata": {},
          "execution_count": 230
        }
      ]
>>>>>>> 31fe2811549db73f988557cf2bcce0aafd3f2bd0
    },
    {
      "cell_type": "markdown",
      "metadata": {
        "id": "wB0qRb56mQvv"
      },
      "source": [
        "También podemos añadir otros datos al diccionario. Vamos a añadir la información sobre la modalidad de estudio, nuestro estudiante estudiará inicialemente en la modalidad EAD.\n",
        "\n",
        "Definiremos una llave llamada `'modalidad'` con el valor `'EAD'`."
      ]
    },
    {
      "cell_type": "code",
<<<<<<< HEAD
      "execution_count": null,
=======
      "source": [
        "estudiante['modalidad'] = 'EAD'\n",
        "estudiante"
      ],
>>>>>>> 31fe2811549db73f988557cf2bcce0aafd3f2bd0
      "metadata": {
        "id": "EeLYdlIm8d8a",
        "colab": {
          "base_uri": "https://localhost:8080/"
        },
        "outputId": "f59cbaca-d240-4908-c63e-a61843463ebd"
      },
<<<<<<< HEAD
      "outputs": [],
      "source": []
    },
    {
      "cell_type": "code",
      "execution_count": null,
=======
      "execution_count": 231,
      "outputs": [
        {
          "output_type": "execute_result",
          "data": {
            "text/plain": [
              "{'matricula': 2000168933,\n",
              " 'dia_registro': 25,\n",
              " 'mes_registro': 10,\n",
              " 'grupo': '2G',\n",
              " 'modalidad': 'EAD'}"
            ]
          },
          "metadata": {},
          "execution_count": 231
        }
      ]
    },
    {
      "cell_type": "code",
      "source": [
        "len(estudiante)"
      ],
>>>>>>> 31fe2811549db73f988557cf2bcce0aafd3f2bd0
      "metadata": {
        "id": "olDIavsm8d_o",
        "colab": {
          "base_uri": "https://localhost:8080/"
        },
        "outputId": "0061c4b8-f019-49b7-df39-cb71e22a514c"
      },
<<<<<<< HEAD
      "outputs": [],
      "source": []
=======
      "execution_count": 232,
      "outputs": [
        {
          "output_type": "execute_result",
          "data": {
            "text/plain": [
              "5"
            ]
          },
          "metadata": {},
          "execution_count": 232
        }
      ]
>>>>>>> 31fe2811549db73f988557cf2bcce0aafd3f2bd0
    },
    {
      "cell_type": "markdown",
      "metadata": {
        "id": "LJ3o_inroxg_"
      },
      "source": [
        "## Profundizando en diccionarios"
      ]
    },
    {
      "cell_type": "markdown",
      "metadata": {
        "id": "2N3GLlkSpBiu"
      },
      "source": [
        "#### [`pop()`](https://python-reference.readthedocs.io/en/latest/docs/dict/pop.html)\n",
        "Remueve un item de un diccionario y lo representa en la salida."
      ]
    },
    {
      "cell_type": "code",
<<<<<<< HEAD
      "execution_count": null,
=======
      "source": [
        "estudiante.pop('grupo')"
      ],
>>>>>>> 31fe2811549db73f988557cf2bcce0aafd3f2bd0
      "metadata": {
        "id": "ZsSCZx6G8b-T",
        "colab": {
          "base_uri": "https://localhost:8080/",
          "height": 35
        },
        "outputId": "3b7db559-008c-41dc-fdcd-01c36118366c"
      },
<<<<<<< HEAD
      "outputs": [],
      "source": []
    },
    {
      "cell_type": "code",
      "execution_count": null,
=======
      "execution_count": 233,
      "outputs": [
        {
          "output_type": "execute_result",
          "data": {
            "text/plain": [
              "'2G'"
            ],
            "application/vnd.google.colaboratory.intrinsic+json": {
              "type": "string"
            }
          },
          "metadata": {},
          "execution_count": 233
        }
      ]
    },
    {
      "cell_type": "code",
      "source": [
        "estudiante"
      ],
>>>>>>> 31fe2811549db73f988557cf2bcce0aafd3f2bd0
      "metadata": {
        "id": "7lQ8_jpi8cBR",
        "colab": {
          "base_uri": "https://localhost:8080/"
        },
        "outputId": "4348fc50-1dab-405a-e98c-047b58ea8325"
      },
<<<<<<< HEAD
      "outputs": [],
      "source": []
=======
      "execution_count": 234,
      "outputs": [
        {
          "output_type": "execute_result",
          "data": {
            "text/plain": [
              "{'matricula': 2000168933,\n",
              " 'dia_registro': 25,\n",
              " 'mes_registro': 10,\n",
              " 'modalidad': 'EAD'}"
            ]
          },
          "metadata": {},
          "execution_count": 234
        }
      ]
>>>>>>> 31fe2811549db73f988557cf2bcce0aafd3f2bd0
    },
    {
      "cell_type": "markdown",
      "metadata": {
        "id": "sYZGvJJYrW_y"
      },
      "source": [
        "#### [`items()`](https://python-reference.readthedocs.io/en/latest/docs/dict/items.html)\n",
        "Retorna una lista de pares `llave-valor` del diccionario."
      ]
    },
    {
      "cell_type": "code",
<<<<<<< HEAD
      "execution_count": null,
=======
      "source": [
        "estudiante.items()"
      ],
>>>>>>> 31fe2811549db73f988557cf2bcce0aafd3f2bd0
      "metadata": {
        "id": "ncdycLV08an7",
        "colab": {
          "base_uri": "https://localhost:8080/"
        },
        "outputId": "fa5c82b9-5e31-453a-bfa0-5783ebf01f09"
      },
<<<<<<< HEAD
      "outputs": [],
      "source": []
=======
      "execution_count": 235,
      "outputs": [
        {
          "output_type": "execute_result",
          "data": {
            "text/plain": [
              "dict_items([('matricula', 2000168933), ('dia_registro', 25), ('mes_registro', 10), ('modalidad', 'EAD')])"
            ]
          },
          "metadata": {},
          "execution_count": 235
        }
      ]
>>>>>>> 31fe2811549db73f988557cf2bcce0aafd3f2bd0
    },
    {
      "cell_type": "markdown",
      "metadata": {
        "id": "Lb0utNFGrZBY"
      },
      "source": [
        "#### [`keys()`](https://python-reference.readthedocs.io/en/latest/docs/dict/keys.html)\n",
        "Retorna una lista de las llaves del diccionario."
      ]
    },
    {
      "cell_type": "code",
<<<<<<< HEAD
      "execution_count": null,
=======
      "source": [
        "estudiante.keys()"
      ],
>>>>>>> 31fe2811549db73f988557cf2bcce0aafd3f2bd0
      "metadata": {
        "id": "eZo0biaM8ZVs",
        "colab": {
          "base_uri": "https://localhost:8080/"
        },
        "outputId": "b2310f80-a536-4b52-957c-595a1245c64f"
      },
<<<<<<< HEAD
      "outputs": [],
      "source": []
=======
      "execution_count": 237,
      "outputs": [
        {
          "output_type": "execute_result",
          "data": {
            "text/plain": [
              "dict_keys(['matricula', 'dia_registro', 'mes_registro', 'modalidad'])"
            ]
          },
          "metadata": {},
          "execution_count": 237
        }
      ]
>>>>>>> 31fe2811549db73f988557cf2bcce0aafd3f2bd0
    },
    {
      "cell_type": "markdown",
      "metadata": {
        "id": "qKyu3bf9rbtX"
      },
      "source": [
        "#### [`values()`](https://python-reference.readthedocs.io/en/latest/docs/dict/values.html)\n",
        "Retorna una lista de los valores del diccionario."
      ]
    },
    {
      "cell_type": "code",
<<<<<<< HEAD
      "execution_count": null,
=======
      "source": [
        "estudiante.values()"
      ],
>>>>>>> 31fe2811549db73f988557cf2bcce0aafd3f2bd0
      "metadata": {
        "id": "-NxRT9C18Yvo",
        "colab": {
          "base_uri": "https://localhost:8080/"
        },
        "outputId": "37053994-9005-433c-a964-59e019e27744"
      },
<<<<<<< HEAD
      "outputs": [],
      "source": []
=======
      "execution_count": 238,
      "outputs": [
        {
          "output_type": "execute_result",
          "data": {
            "text/plain": [
              "dict_values([2000168933, 25, 10, 'EAD'])"
            ]
          },
          "metadata": {},
          "execution_count": 238
        }
      ]
>>>>>>> 31fe2811549db73f988557cf2bcce0aafd3f2bd0
    },
    {
      "cell_type": "markdown",
      "metadata": {
        "id": "e3XVjR8Frp75"
      },
      "source": [
        "### Lectura de valores con el lazo `for`"
      ]
    },
    {
      "cell_type": "code",
<<<<<<< HEAD
      "execution_count": null,
=======
      "source": [
        "for llave in estudiante.keys():\n",
        "  print(llave)"
      ],
>>>>>>> 31fe2811549db73f988557cf2bcce0aafd3f2bd0
      "metadata": {
        "id": "NYcjU-Ip8Xan",
        "colab": {
          "base_uri": "https://localhost:8080/"
        },
        "outputId": "93b4ab3b-7fe9-4462-caa6-de872f43fb1b"
      },
<<<<<<< HEAD
      "outputs": [],
      "source": []
    },
    {
      "cell_type": "code",
      "execution_count": null,
=======
      "execution_count": 239,
      "outputs": [
        {
          "output_type": "stream",
          "name": "stdout",
          "text": [
            "matricula\n",
            "dia_registro\n",
            "mes_registro\n",
            "modalidad\n"
          ]
        }
      ]
    },
    {
      "cell_type": "code",
      "source": [
        "for llave,valor in estudiante.items():\n",
        "  print(llave, '-->', valor)"
      ],
>>>>>>> 31fe2811549db73f988557cf2bcce0aafd3f2bd0
      "metadata": {
        "id": "aAnpP1Wv8XfJ",
        "colab": {
          "base_uri": "https://localhost:8080/"
        },
        "outputId": "e6419811-af60-46c1-aeb6-c9e2336eefeb"
      },
<<<<<<< HEAD
      "outputs": [],
      "source": []
=======
      "execution_count": 240,
      "outputs": [
        {
          "output_type": "stream",
          "name": "stdout",
          "text": [
            "matricula --> 2000168933\n",
            "dia_registro --> 25\n",
            "mes_registro --> 10\n",
            "modalidad --> EAD\n"
          ]
        }
      ]
>>>>>>> 31fe2811549db73f988557cf2bcce0aafd3f2bd0
    }
  ],
  "metadata": {
    "colab": {
      "include_colab_link": true,
      "provenance": []
    },
    "kernelspec": {
      "display_name": "base",
      "language": "python",
      "name": "python3"
    },
    "language_info": {
      "name": "python",
      "version": "3.12.7"
    }
  },
  "nbformat": 4,
  "nbformat_minor": 0
}
